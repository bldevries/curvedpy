{
 "cells": [
  {
   "cell_type": "markdown",
   "id": "37289d22-e9d1-4440-aaa0-c90739f5554d",
   "metadata": {},
   "source": [
    "# Tutorial 4: a toy polygon shader to render in Schwarzschild spacetimes"
   ]
  },
  {
   "cell_type": "code",
   "execution_count": 16,
   "id": "284fd6dc-70ed-405a-8f1f-9a7b46b7b3c8",
   "metadata": {},
   "outputs": [
    {
     "data": {
      "text/plain": [
       "'0.0.4a1'"
      ]
     },
     "execution_count": 16,
     "metadata": {},
     "output_type": "execute_result"
    }
   ],
   "source": [
    "import curvedpy as cp\n",
    "import numpy as np\n",
    "import matplotlib.pyplot as plt\n",
    "from matplotlib.patches import Wedge\n",
    "from PIL import Image\n",
    "cp.__version__"
   ]
  },
  {
   "cell_type": "markdown",
   "id": "ed1d20b4-b2b2-4a9f-8ff0-a52c09d49d7e",
   "metadata": {},
   "source": [
    "In this tutorial we use a toy vertex shader to render a cube in a Schwarzschild spacetime."
   ]
  },
  {
   "cell_type": "markdown",
   "id": "7b4b988b-b9ce-4ac1-ba61-6cb7a4a547cf",
   "metadata": {},
   "source": [
    "## Setting up\n",
    "First we need to set up the camera and its properties. And we need to make a cube with vertices and edges to render."
   ]
  },
  {
   "cell_type": "code",
   "execution_count": 17,
   "id": "60aee7df-88c2-4340-9ad0-2c42e74b212a",
   "metadata": {},
   "outputs": [],
   "source": [
    "cam_loc = np.array([0,0,10.])\n",
    "look_at = np.array([0.0,0.0,-1.0])\n",
    "up = np.array([0,1,0])\n",
    "\n",
    "left_nuv = -20\n",
    "right_nuv = 20\n",
    "bottom_nuv = -20\n",
    "top_nuv = 20\n",
    "near_nuv = 1\n",
    "far_nuv = 50.0\n",
    "\n",
    "def make_cube(cube_loc = np.array([-5, -5, -6])):\n",
    "    size= 10\n",
    "    cube_loc_center = np.array([cube_loc[0]+1/2*size, cube_loc[1]+1/2*size, cube_loc[2]-1/2*size, 1])\n",
    "    left, down, front = cube_loc # left down front\n",
    "    verts = \\\n",
    "    [np.array([left, down, front, 1]), \\\n",
    "     np.array([left, down+size, front, 1]), \\\n",
    "     np.array([left+size, down+size, front, 1]), \\\n",
    "     np.array([left+size, down, front, 1]), \\\n",
    "     np.array([left, down, front-size, 1]), \\\n",
    "     np.array([left, down+size, front-size, 1]), \\\n",
    "     np.array([left+size, down+size, front-size, 1]), \\\n",
    "     np.array([left+size, down, front-size, 1])]\n",
    "    \n",
    "    edges = [[0, 1], [1,2], [2,3], [3,0]]\n",
    "    edges += [[4,5], [5,6], [6,7],[7,4]]\n",
    "    edges += [[0, 4], [1,5], [2, 6], [3,7]]\n",
    "\n",
    "    return np.array(verts), np.array(edges)\n",
    "\n",
    "verts, edges = make_cube(cube_loc = np.array([-20, -5, -30]))#cube_loc = np.array([50, -5, -50]))"
   ]
  },
  {
   "cell_type": "markdown",
   "id": "499316ea-44b3-48b1-b452-d19f3817abcd",
   "metadata": {},
   "source": [
    "The setup is roughly, from a top view, like this. The vertices are in green, the center of the black hole in black and the camera points down and is shown as a blue triangle."
   ]
  },
  {
   "cell_type": "code",
   "execution_count": 18,
   "id": "54028446-aeee-46b6-922e-2666e8200d00",
   "metadata": {},
   "outputs": [
    {
     "data": {
      "text/plain": [
       "Text(0.5, 1.0, 'Top view')"
      ]
     },
     "execution_count": 18,
     "metadata": {},
     "output_type": "execute_result"
    },
    {
     "data": {
      "image/png": "[encoded data removed]",
      "text/plain": [
       "<Figure size 640x480 with 1 Axes>"
      ]
     },
     "metadata": {},
     "output_type": "display_data"
    }
   ],
   "source": [
    "plt.plot(cam_loc[0], cam_loc[2], \"v\")\n",
    "\n",
    "# for a in range(len(verts)):\n",
    "for i,e in enumerate(edges):\n",
    "    x = [verts[e[0]][0], verts[e[1]][0]]\n",
    "    y = [verts[e[0]][2], verts[e[1]][2]]\n",
    "    plt.plot(x, y, \"ro-\")\n",
    "\n",
    "\n",
    "# for v in verts:\n",
    "#     plt.plot(v[0], v[2], \"go\")\n",
    "plt.plot(0,0, \"ko\")\n",
    "l = 65\n",
    "\n",
    "plt.xlim(-l, l)\n",
    "plt.ylim(-l, l)\n",
    "plt.xlabel(\"y\")\n",
    "plt.ylabel(\"z\")\n",
    "plt.title(\"Top view\")"
   ]
  },
  {
   "cell_type": "markdown",
   "id": "62d55602-b8b3-45a0-be12-a42baf5e89d1",
   "metadata": {},
   "source": [
    "## Making a shader object\n",
    "We need to make a CurvedVertexShader class with the camera properties given."
   ]
  },
  {
   "cell_type": "code",
   "execution_count": 19,
   "id": "5b50dac0-023d-4c7c-8364-df8b68f961c2",
   "metadata": {},
   "outputs": [],
   "source": [
    "sh = cp.CurvedVertexShader(cam_loc, look_at, up, left_nuv, right_nuv, \\\n",
    "                    bottom_nuv, top_nuv, near_nuv, far_nuv)"
   ]
  },
  {
   "cell_type": "markdown",
   "id": "10f11d07-7a2a-494f-b5fc-b46996d7a3f1",
   "metadata": {},
   "source": [
    "## Rendering without a black hole\n",
    "Lets first see how the cube looks without a black hole. So first run the render pipeline without using a black hole:"
   ]
  },
  {
   "cell_type": "code",
   "execution_count": 20,
   "id": "7516985e-ff9b-49ab-8514-bac4f5eaa0b9",
   "metadata": {},
   "outputs": [],
   "source": [
    "verts2_noBH = [sh.run(verts, image_nr = 1, use_bh=False)]"
   ]
  },
  {
   "cell_type": "markdown",
   "id": "03b3d23e-b78d-4fb3-987d-bddc844141e3",
   "metadata": {},
   "source": [
    "And then we plot the clipping coordinates:"
   ]
  },
  {
   "cell_type": "code",
   "execution_count": 21,
   "id": "adf69799-37aa-4bf1-820a-d25f4e29d4ab",
   "metadata": {},
   "outputs": [
    {
     "data": {
      "image/png": "[encoded data removed]",
      "text/plain": [
       "<Figure size 640x480 with 1 Axes>"
      ]
     },
     "metadata": {},
     "output_type": "display_data"
    }
   ],
   "source": [
    "colors = ['r', 'b', 'g']\n",
    "alphas = [1, 0.2, 0.05]\n",
    "\n",
    "for a in range(len(verts2_noBH)):\n",
    "    for i,e in enumerate(edges):\n",
    "        x = [verts2_noBH[a][e[0]][0], verts2_noBH[a][e[1]][0]]\n",
    "        y = [verts2_noBH[a][e[0]][1], verts2_noBH[a][e[1]][1]]\n",
    "        plt.plot(x, y, \".-\", zorder=1, alpha = alphas[a], color=colors[a])\n",
    "\n",
    "\n",
    "ax = plt.gca()\n",
    "# circle = Wedge((0, 0), 3, theta1=0, theta2=360, facecolor='k', edgecolor='k')\n",
    "# circle = Wedge((0, 0), 0.0265, theta1=0.0, theta2=360, facecolor='k', edgecolor='k', zorder=2)\n",
    "# ax.add_artist(circle)\n",
    "\n",
    "ax.set_aspect('equal')\n",
    "l = 0.15\n",
    "plt.xlim(-l, l)\n",
    "l = 0.05\n",
    "plt.ylim(-l, l)\n",
    "plt.title(\"NO black hole\")\n",
    "plt.savefig(\"tutorial_4_images/no_bh_render.png\")"
   ]
  },
  {
   "cell_type": "markdown",
   "id": "58780ae0-5efb-4c7f-b253-bc794afddd06",
   "metadata": {},
   "source": [
    "## Render with a black hole"
   ]
  },
  {
   "cell_type": "markdown",
   "id": "7488487a-fdcb-4dc4-93bf-93793e0e0d77",
   "metadata": {},
   "source": [
    "Next we need to run the shader for ther vertices. We need to do this for the different image orders."
   ]
  },
  {
   "cell_type": "code",
   "execution_count": 22,
   "id": "483cd64e-d550-46f2-8b5d-0cbe6e1c907d",
   "metadata": {},
   "outputs": [],
   "source": [
    "verts2 = [sh.run(verts, image_nr = 1, use_bh=True), \\\n",
    "          sh.run(verts, image_nr = 2, use_bh=True), \\\n",
    "          sh.run(verts, image_nr = 3, use_bh=True)]"
   ]
  },
  {
   "cell_type": "markdown",
   "id": "0a9ff612-6ea7-498b-baf8-d90b69ec8aab",
   "metadata": {},
   "source": [
    "Now we have the verts2 coordinates, which are in the clipping space. Thus we can plot the first and second element of the vertices sort of as pixels in matplotlib."
   ]
  },
  {
   "cell_type": "code",
   "execution_count": 23,
   "id": "21e2d4e5-d47e-43cf-964a-3ae15d5840e9",
   "metadata": {},
   "outputs": [
    {
     "data": {
      "image/png": "[encoded data removed]",
      "text/plain": [
       "<Figure size 640x480 with 1 Axes>"
      ]
     },
     "metadata": {},
     "output_type": "display_data"
    }
   ],
   "source": [
    "colors = ['r', 'b', 'g']\n",
    "alphas = [1, 0.2, 0.1]\n",
    "\n",
    "for a in range(len(verts2)):\n",
    "    for i,e in enumerate(edges):\n",
    "        x = [verts2[a][e[0]][0], verts2[a][e[1]][0]]\n",
    "        y = [verts2[a][e[0]][1], verts2[a][e[1]][1]]\n",
    "        if i == 0:\n",
    "            plt.plot(x, y, \".-\", zorder=1, alpha = alphas[a], color=colors[a], label=f\"Image nr {a+1}\")\n",
    "        else:\n",
    "            plt.plot(x, y, \".-\", zorder=1, alpha = alphas[a], color=colors[a])\n",
    "\n",
    "ax = plt.gca()\n",
    "# circle = Wedge((0, 0), 3, theta1=0, theta2=360, facecolor='k', edgecolor='k')\n",
    "circle = Wedge((0, 0), 0.0265, theta1=0.0, theta2=360, facecolor='k', edgecolor='k', zorder=2)\n",
    "ax.add_artist(circle)\n",
    "\n",
    "ax.set_aspect('equal')\n",
    "l = 0.15\n",
    "plt.xlim(-l, l)\n",
    "l = 0.05\n",
    "plt.ylim(-l, l)\n",
    "plt.title(\"WITH a black hole\")\n",
    "plt.legend()\n",
    "plt.savefig(\"tutorial_4_images/with_bh_render.png\")\n"
   ]
  },
  {
   "cell_type": "markdown",
   "id": "5d9b2f63-8989-487f-9e92-9ca41d4ec8e8",
   "metadata": {},
   "source": [
    "And if you would move the square to the other side of the black hole, it would look like this :)"
   ]
  },
  {
   "cell_type": "markdown",
   "id": "02937eef-b1cc-4169-9fd7-2f09fcaa270e",
   "metadata": {},
   "source": [
    "![alt text](tutorial_4_images/cube_behind_bh.gif \"Title\")\n"
   ]
  },
  {
   "cell_type": "code",
   "execution_count": null,
   "id": "9659ff72-9ada-4840-b33d-5fcf2d51451a",
   "metadata": {},
   "outputs": [],
   "source": []
  }
 ],
 "metadata": {
  "kernelspec": {
   "display_name": "ve",
   "language": "python",
   "name": "ve"
  },
  "language_info": {
   "codemirror_mode": {
    "name": "ipython",
    "version": 3
   },
   "file_extension": ".py",
   "mimetype": "text/x-python",
   "name": "python",
   "nbconvert_exporter": "python",
   "pygments_lexer": "ipython3",
   "version": "3.9.13"
  }
 },
 "nbformat": 4,
 "nbformat_minor": 5
}
