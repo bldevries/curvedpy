{
 "cells": [
  {
   "cell_type": "code",
   "execution_count": 3,
   "id": "d8102c34",
   "metadata": {},
   "outputs": [],
   "source": [
    "import curvedpy as cp\n",
    "import numpy as np\n",
    "import sympy as sp"
   ]
  },
  {
   "cell_type": "markdown",
   "id": "fb4b2149",
   "metadata": {},
   "source": [
    "## Trajectories in space-time: the geodesic equation"
   ]
  },
  {
   "cell_type": "markdown",
   "id": "36a8f76e",
   "metadata": {},
   "source": [
    "In this section I will loosely explain how the path travelled by bodies in four dimensional space-times is calculated given a metric. I will leave out most of the math and proper definitions. It needs to be readable by people that have studied some calculus and mechanics. If you have studied some General Relativity and/or differential geometry, please keep the goal of the the oversimplifications I make in mind. :) "
   ]
  },
  {
   "cell_type": "markdown",
   "id": "fab20b36",
   "metadata": {},
   "source": [
    "So lets start with Newtons second law. In flat space the motion of bodies (in the classical limit) is described by the second law of Newton:\n",
    "\n",
    "$$\n",
    "\\frac{d^2 x}{dt^2} = F/m\n",
    "$$\n",
    "\n",
    "Where F is the net force acting on the body, m is the body's mass and x is the location of the body. If no force is acting on the body this reduces to:\n",
    "\n",
    "$$\n",
    "\\frac{d^2 x}{dt^2} = 0\n",
    "$$\n",
    "\n",
    "Which states that the velocity of the body is constant and $x(t)$ is a linear function of time. Or in other words, the body follows a straight line."
   ]
  },
  {
   "cell_type": "markdown",
   "id": "6fa6f440",
   "metadata": {},
   "source": [
    "In General Relativity a similar equation as the second law of Newton exists and is called the geodesic equation:\n",
    "\n",
    "$$\n",
    "\\frac{d^2 x^{\\alpha}}{d\\tau^2} + \\Gamma^{\\alpha}_{\\mu \\nu} \\frac{d x^{\\nu}}{d\\tau} \\frac{d x^{\\mu}}{d\\tau} = 0\n",
    "$$\n",
    "\n",
    "This equation describes the motion of a body in four dimensional space (thus including time). At first sight this equation does not look similar to Newtons second law, but lets have a look. As with Newtons equation the $x$ describes the location of the body. Here $x^{\\alpha}$ is the location of the body in four dimensional space. $x^{0}$ is the time coordinate and $x^{1}$, $x^{2}$ and $x^{3}$ are the spatial coordinates. You see that $\\alpha$ (just as $\\mu$ and $\\nu$) is an index of the four-vector $x^{\\alpha}$\n"
   ]
  },
  {
   "cell_type": "markdown",
   "id": "0985510d",
   "metadata": {},
   "source": [
    "Now $\\frac{d^2 x^{\\alpha}}{d\\tau^2}$ is the second derivative of the four-location $x$ to the parameter $\\tau$. Here $\\tau$ serves the function that time does in Newtons equation. The solution of the geodesic equation is thus $x(\\tau)$, which describes a path in four-space. If the second term:\n",
    "\n",
    "$$\\Gamma^{\\alpha}_{\\mu \\nu} \\frac{d x^{\\nu}}{d\\tau} \\frac{d x^{\\mu}}{d\\tau}$$\n",
    "\n",
    "would not exist, the geodesic equation would reduce to Newtons equation (with F=0) and taking $\\tau = x^{0} = t$. "
   ]
  },
  {
   "cell_type": "markdown",
   "id": "2b000a1c",
   "metadata": {},
   "source": [
    "The term with $\\Gamma$ adds the effect of curved space to the geodesic equation and with that the geodesic equation becomes an equation that describes straight lines in curved space."
   ]
  },
  {
   "cell_type": "markdown",
   "id": "216f89fc",
   "metadata": {},
   "source": [
    "(Add more information on different and equivalent definitions of a straight line?)"
   ]
  },
  {
   "cell_type": "markdown",
   "id": "0fe65ec9",
   "metadata": {},
   "source": [
    "The $\\Gamma$ encodes all information of the curvature of space and these numbers are called Christoffel Symbols or Connection Symbols. They are calculated and defined as:\n",
    "\n",
    "$$\\Gamma^{\\sigma}_{\\mu \\nu} = \\frac{1}{2} g^{\\sigma \\rho} (\\partial_{\\mu} g_{\\nu \\rho} + \\partial_{\\nu} g_{\\rho \\mu} - \\partial_{\\rho} g_{\\mu \\nu})$$\n",
    "\n",
    "Where $g_{\\mu \\nu}$ is the space-time metric. In short it encodes the length of between two points in space-time and is a part of the inner product between vectors."
   ]
  },
  {
   "cell_type": "markdown",
   "id": "7d160c4a",
   "metadata": {},
   "source": [
    "Even though you have used the metric of flat Euclidean space many times, you might not have realized. This is because the metric in Euclidian space is:\n",
    "\n",
    "$$\n",
    "G_{\\text{flat}} = \n",
    "\\begin{bmatrix}\n",
    "1 & 0 & 0\\\\\n",
    "0 & 1 & 0\\\\\n",
    "0 & 0 & 1\\\\\n",
    "\\end{bmatrix}\n",
    "$$\n"
   ]
  },
  {
   "cell_type": "markdown",
   "id": "59cc4395",
   "metadata": {},
   "source": [
    "Here I have written the metric in Matrix notation. (For the connoisseur, the metric is a rank-2 tensor $g_{\\sigma \\rho}$). And the metric is part of the length of a vector through the innerproduct. The the length of a vector $\\vec{V}$ is:\n",
    "\n",
    "$$\n",
    "\\vec{V}\\cdot\\vec{V} = \\vec{V}^{T} G_{\\text{flat}} \\vec{V} = \\vec{V}^{T} \\vec{V} = v_1^2 + v_2^2 + v_3^3\n",
    "$$\n",
    "\n",
    "Here we use standard matrix multiplication, $\\vec{V}^{T}$ is the transpose of $\\vec{V}$ making it a row vector and the components of $\\vec{V}$ are $(v_1, v_2, v_3)$. And you see it all kind of ends with Pythagoras theorem and you see why you might never have heared of the metric. "
   ]
  },
  {
   "cell_type": "markdown",
   "id": "2584cbaa",
   "metadata": {},
   "source": [
    "A nice example of a more complicated metric in a familiar setting is that of the surface of a sphere. If you are interested in what this metric looks like and how you can use it, see my blog [Calculating lengths in curved spaces using SymPy’s symbolic mathematics, Python and Matplotlib](https://medium.com/@bldevries/calculating-lengths-in-curved-spaces-using-sympys-symbolic-mathematics-python-and-matplotlib-7c18da99fd7b)."
   ]
  },
  {
   "cell_type": "markdown",
   "id": "4d41a85c",
   "metadata": {},
   "source": [
    "## A blackhole metric"
   ]
  },
  {
   "cell_type": "markdown",
   "id": "50b86c4b",
   "metadata": {},
   "source": [
    "One of the metrics implemented in curvedpy is the Schwarzschild metric that describes space-time around a spherically symmetric blackhole. In Spherical coordinates this looks like:"
   ]
  },
  {
   "cell_type": "markdown",
   "id": "7997441f",
   "metadata": {},
   "source": [
    "$$\n",
    "g_{\\sigma \\rho} = \n",
    "\\begin{bmatrix}\n",
    "-(1-\\frac{r_s}{r}) & 0 & 0 & 0\\\\\n",
    "0 & \\left(1-\\frac{r_s}{r}\\right)^{-1} & 0 & 0\\\\\n",
    "0 & 0 & r^2 & 0\\\\\n",
    "0 & 0 & 0 & r^2 \\sin^2(\\theta)\n",
    "\\end{bmatrix}\n",
    "$$"
   ]
  },
  {
   "cell_type": "markdown",
   "id": "227a0635",
   "metadata": {},
   "source": [
    "The package curvedpy actually used the Schwarzschild metric in cartesian coordinates. To show this we create a SchwarzschildGeodesic class:"
   ]
  },
  {
   "cell_type": "code",
   "execution_count": 5,
   "id": "cac0add9",
   "metadata": {},
   "outputs": [],
   "source": [
    "SW = cp.SchwarzschildGeodesic()"
   ]
  },
  {
   "cell_type": "markdown",
   "id": "efcfeb43",
   "metadata": {},
   "source": [
    "And we can show the metric:"
   ]
  },
  {
   "cell_type": "code",
   "execution_count": 6,
   "id": "6e7ca9a0",
   "metadata": {},
   "outputs": [
    {
     "data": {
      "text/latex": [
       "$\\displaystyle \\left[\\begin{matrix}- \\frac{\\left(- \\frac{r_{s}}{4 \\sqrt{x^{2} + y^{2} + z^{2}}} + 1\\right)^{2}}{\\left(\\frac{r_{s}}{4 \\sqrt{x^{2} + y^{2} + z^{2}}} + 1\\right)^{2}} & 0 & 0 & 0\\\\0 & \\left(\\frac{r_{s}}{4 \\sqrt{x^{2} + y^{2} + z^{2}}} + 1\\right)^{4} & 0 & 0\\\\0 & 0 & \\left(\\frac{r_{s}}{4 \\sqrt{x^{2} + y^{2} + z^{2}}} + 1\\right)^{4} & 0\\\\0 & 0 & 0 & \\left(\\frac{r_{s}}{4 \\sqrt{x^{2} + y^{2} + z^{2}}} + 1\\right)^{4}\\end{matrix}\\right]$"
      ],
      "text/plain": [
       "Matrix([\n",
       "[-(-r_s/(4*sqrt(x**2 + y**2 + z**2)) + 1)**2/(r_s/(4*sqrt(x**2 + y**2 + z**2)) + 1)**2,                                         0,                                         0,                                         0],\n",
       "[                                                                                    0, (r_s/(4*sqrt(x**2 + y**2 + z**2)) + 1)**4,                                         0,                                         0],\n",
       "[                                                                                    0,                                         0, (r_s/(4*sqrt(x**2 + y**2 + z**2)) + 1)**4,                                         0],\n",
       "[                                                                                    0,                                         0,                                         0, (r_s/(4*sqrt(x**2 + y**2 + z**2)) + 1)**4]])"
      ]
     },
     "execution_count": 6,
     "metadata": {},
     "output_type": "execute_result"
    }
   ],
   "source": [
    "SW.g"
   ]
  },
  {
   "cell_type": "markdown",
   "id": "7b6001f9",
   "metadata": {},
   "source": [
    "The Christoffel Symbols $\\Gamma$ are calculated using sympy and an example is:"
   ]
  },
  {
   "cell_type": "code",
   "execution_count": 9,
   "id": "e6d6fdd5",
   "metadata": {},
   "outputs": [
    {
     "data": {
      "text/latex": [
       "$\\displaystyle \\left[\\begin{matrix}- \\frac{2048.0 r_{s} y \\left(r_{s} - 4 \\sqrt{x^{2} + y^{2} + z^{2}}\\right) \\left(x^{2} + y^{2} + z^{2}\\right)^{\\frac{3}{2}}}{\\left(r_{s} + 4 \\sqrt{x^{2} + y^{2} + z^{2}}\\right)^{7}} & 0 & 0 & 0\\\\0 & \\frac{2.0 r_{s} y}{\\left(r_{s} + 4 \\sqrt{x^{2} + y^{2} + z^{2}}\\right) \\left(x^{2} + y^{2} + z^{2}\\right)} & - \\frac{2.0 r_{s} x}{\\left(r_{s} + 4 \\sqrt{x^{2} + y^{2} + z^{2}}\\right) \\left(x^{2} + y^{2} + z^{2}\\right)} & 0\\\\0 & - \\frac{2.0 r_{s} x}{\\left(r_{s} + 4 \\sqrt{x^{2} + y^{2} + z^{2}}\\right) \\left(x^{2} + y^{2} + z^{2}\\right)} & - \\frac{2.0 r_{s} y}{\\left(r_{s} + 4 \\sqrt{x^{2} + y^{2} + z^{2}}\\right) \\left(x^{2} + y^{2} + z^{2}\\right)} & - \\frac{2.0 r_{s} z}{\\left(r_{s} + 4 \\sqrt{x^{2} + y^{2} + z^{2}}\\right) \\left(x^{2} + y^{2} + z^{2}\\right)}\\\\0 & 0 & - \\frac{2.0 r_{s} z}{\\left(r_{s} + 4 \\sqrt{x^{2} + y^{2} + z^{2}}\\right) \\left(x^{2} + y^{2} + z^{2}\\right)} & \\frac{2.0 r_{s} y}{\\left(r_{s} + 4 \\sqrt{x^{2} + y^{2} + z^{2}}\\right) \\left(x^{2} + y^{2} + z^{2}\\right)}\\end{matrix}\\right]$"
      ],
      "text/plain": [
       "Matrix([\n",
       "[-2048.0*r_s*y*(r_s - 4*sqrt(x**2 + y**2 + z**2))*(x**2 + y**2 + z**2)**(3/2)/(r_s + 4*sqrt(x**2 + y**2 + z**2))**7,                                                                    0,                                                                    0,                                                                    0],\n",
       "[                                                                                                                 0,  2.0*r_s*y/((r_s + 4*sqrt(x**2 + y**2 + z**2))*(x**2 + y**2 + z**2)), -2.0*r_s*x/((r_s + 4*sqrt(x**2 + y**2 + z**2))*(x**2 + y**2 + z**2)),                                                                    0],\n",
       "[                                                                                                                 0, -2.0*r_s*x/((r_s + 4*sqrt(x**2 + y**2 + z**2))*(x**2 + y**2 + z**2)), -2.0*r_s*y/((r_s + 4*sqrt(x**2 + y**2 + z**2))*(x**2 + y**2 + z**2)), -2.0*r_s*z/((r_s + 4*sqrt(x**2 + y**2 + z**2))*(x**2 + y**2 + z**2))],\n",
       "[                                                                                                                 0,                                                                    0, -2.0*r_s*z/((r_s + 4*sqrt(x**2 + y**2 + z**2))*(x**2 + y**2 + z**2)),  2.0*r_s*y/((r_s + 4*sqrt(x**2 + y**2 + z**2))*(x**2 + y**2 + z**2))]])"
      ]
     },
     "execution_count": 9,
     "metadata": {},
     "output_type": "execute_result"
    }
   ],
   "source": [
    "SW.gam_y"
   ]
  },
  {
   "cell_type": "markdown",
   "id": "47171aa4",
   "metadata": {},
   "source": [
    "## Solving the geodesic equation"
   ]
  },
  {
   "cell_type": "markdown",
   "id": "63d85b99",
   "metadata": {},
   "source": [
    "The geodesic equation is a not quite linear second order differential equation, so we need to use some numerical techniques to tackle it. The scipy packages has some nice integrators which we can use through the function ```solve_ivp```. For a simple example of how you can use this function check out my blog [Simply solving differential equations using Python, scipy and solve_ivp](https://medium.com/@bldevries/simply-solving-differential-equations-using-python-scipy-and-solve-ivp-f6185da2572d). "
   ]
  },
  {
   "cell_type": "markdown",
   "id": "9e005d5e",
   "metadata": {},
   "source": [
    "For ```solve_ivp``` to work we need to split the geodesic equation in first order equations by introducing the \"velocity\" $k^{\\mu}$:"
   ]
  },
  {
   "cell_type": "markdown",
   "id": "ed370d69",
   "metadata": {},
   "source": [
    "$$\n",
    "\\frac{d k^{\\alpha}}{d \\lambda} = \n",
    "\\text{ } -\\Gamma^{\\alpha}_{\\nu \\mu} \\text{ }\n",
    "k^{\\mu} \\text{ } \n",
    "k^{\\nu}\n",
    "$$\n",
    "$$\n",
    "\\frac{d x^{\\beta}}{d\\lambda} = k^{\\beta}\n",
    "$$"
   ]
  },
  {
   "cell_type": "markdown",
   "id": "321af266",
   "metadata": {},
   "source": [
    "Now we can integrate these equations (these are 8 equations since the indices can take on 4 values) if we have an initial condition for the location $x$ and the \"velocity\" $k$. Or in other words, we need to have a beginning location and direction of movement."
   ]
  },
  {
   "cell_type": "markdown",
   "id": "e57dec3e",
   "metadata": {},
   "source": [
    "The integration of the geodesic equation is done in the function ```calc_trajectory```."
   ]
  },
  {
   "cell_type": "markdown",
   "id": "cee73d2d",
   "metadata": {},
   "source": [
    "How the function ```calc_trajectory``` and ```ray_trace``` are used in the class ```SchwarzschildGeodesic``` will be shown and explained in a separate jupyter notebook."
   ]
  },
  {
   "cell_type": "code",
   "execution_count": null,
   "id": "e4f5a940",
   "metadata": {},
   "outputs": [],
   "source": []
  }
 ],
 "metadata": {
  "kernelspec": {
   "display_name": "ve",
   "language": "python",
   "name": "ve"
  },
  "language_info": {
   "codemirror_mode": {
    "name": "ipython",
    "version": 3
   },
   "file_extension": ".py",
   "mimetype": "text/x-python",
   "name": "python",
   "nbconvert_exporter": "python",
   "pygments_lexer": "ipython3",
   "version": "3.9.13"
  }
 },
 "nbformat": 4,
 "nbformat_minor": 5
}
