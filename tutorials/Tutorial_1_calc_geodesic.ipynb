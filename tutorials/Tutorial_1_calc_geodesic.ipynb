{
 "cells": [
  {
   "cell_type": "markdown",
   "id": "24fdf199-6dba-49c4-9e28-61cab99c9171",
   "metadata": {},
   "source": [
    "# Calculating the trajectory of a photon around a Schwarzschild blackhole"
   ]
  },
  {
   "cell_type": "code",
   "execution_count": null,
   "id": "8609cb55-6af7-43a8-8643-795ec248b92b",
   "metadata": {},
   "outputs": [],
   "source": [
    "from curvedpy.geodesics.blackhole import BlackholeGeodesicIntegrator\n",
    "from curvedpy.utils.conversions import Conversions\n",
    "import numpy as np\n",
    "import time \n",
    "import matplotlib.pyplot as plt"
   ]
  },
  {
   "cell_type": "markdown",
   "id": "71f1cb10-542b-4444-b84f-bdb7126fb987",
   "metadata": {},
   "source": [
    "## Create a BlackholeGeodesicIntegrator object that calculates geodesics for a spherically symmetric blackhole using the Schwarzschild metric"
   ]
  },
  {
   "cell_type": "markdown",
   "id": "2939dbf3-e3ac-4098-8e20-2e26f41d38ae",
   "metadata": {},
   "source": [
    "The mass is in geometrized units. A mass of 1 gives a blackhole with a Schwarzschild radius of 2. a=0 means a non-rotating blackhole. At this moment (28/01/2025) a rotating blackhole is not yet implemented."
   ]
  },
  {
   "cell_type": "code",
   "execution_count": null,
   "id": "18e15471-d5c2-4710-b6fa-b97017e94a93",
   "metadata": {},
   "outputs": [],
   "source": [
    "gi = BlackholeGeodesicIntegrator(mass = 1.0, a = 0.0, time_like = False, verbose=False)"
   ]
  },
  {
   "cell_type": "code",
   "execution_count": null,
   "id": "8537a07b-4a48-4bef-b059-4b67faf450ad",
   "metadata": {},
   "outputs": [],
   "source": [
    "print(f\"Radius of the blackhole in Schwarzschild radii: {gi.get_r_s()}\")"
   ]
  },
  {
   "cell_type": "markdown",
   "id": "d1895a4c-7a7d-4a7e-8915-aca4d1dff648",
   "metadata": {},
   "source": [
    "## Example geodesic/trajectory of a photon that escapes"
   ]
  },
  {
   "cell_type": "markdown",
   "id": "50bf46ce-27a6-4844-86bb-918c41f25359",
   "metadata": {},
   "source": [
    "The function geodesic(k0_xyz, x0_xyz) requires two initial conditions in the for of 3-vectors in cartesian coordinates. \n",
    "* x0_xyz is the starting position of the particle. \n",
    "* k0_xyz is the starting 3-vector for the momentum (photon) or the momentum per mass (massive body).\n",
    "\n",
    "The 4-vector initial conditions are calculated by starting at t=0 and time component of k0 is calculated using the norm of the 4-vector. This norm is zero for a photon and -1 for a massive particle."
   ]
  },
  {
   "cell_type": "code",
   "execution_count": null,
   "id": "9c17e8c2-9c1b-4348-9c31-9a84d608bb93",
   "metadata": {},
   "outputs": [],
   "source": [
    "k0_xyz = np.array([1.0, -0.57, 0.0])\n",
    "x0_xyz = np.array([0.0001, 5, 0])\n",
    "\n",
    "st = time.time()\n",
    "k_xyz, x_xyz , result = gi.geodesic(k0_xyz, x0_xyz,max_step = 1.0, curve_end=50, nr_points_curve=10000)\n",
    "print(\"Exec. time: \", time.time()-st)\n",
    "print(\"Integrator result: \", result.message)\n",
    "print(\"Event of hitting the blackhole: \", result.hit_blackhole)\n",
    "\n",
    "circle1 = plt.Circle((0, 0), 2, color='k')\n",
    "fig, ax = plt.subplots(figsize=(6,6))\n",
    "ax.add_patch(circle1)\n",
    "ax.plot(*x_xyz[0:2])\n",
    "plt.xlim(-10, 10)\n",
    "plt.ylim(-10, 10)\n",
    "plt.xlabel(\"x (Geometrized units)\")\n",
    "plt.ylabel(\"y (Geometrized units)\")\n",
    "plt.show()"
   ]
  },
  {
   "cell_type": "markdown",
   "id": "ca9d0bef-28d2-488e-855a-b3fb04c3beca",
   "metadata": {},
   "source": [
    "## Example geodesic/trajectory of a photon that falls into the blackhole"
   ]
  },
  {
   "cell_type": "code",
   "execution_count": null,
   "id": "c31b7fd7-36f7-49be-b4a4-1f7918fc419b",
   "metadata": {},
   "outputs": [],
   "source": [
    "k0_xyz = np.array([0., -0.01, 0.0])\n",
    "x0_xyz = np.array([0.0001, 5, 0])\n",
    "\n",
    "st = time.time()\n",
    "k_xyz, x_xyz , result = gi.geodesic(k0_xyz, x0_xyz,max_step = 1.0, curve_end=500, nr_points_curve=100)\n",
    "print(\"Exec. time: \", time.time()-st)\n",
    "print(\"Integrator result: \", result.message)\n",
    "print(\"Event of hitting the blackhole: \", result.hit_blackhole)\n",
    "\n",
    "circle1 = plt.Circle((0, 0), 2, color='k')\n",
    "fig, ax = plt.subplots(figsize=(6,6))\n",
    "ax.add_patch(circle1)\n",
    "ax.plot(*x_xyz[0:2])\n",
    "plt.xlim(-7, 7)\n",
    "plt.ylim(-7, 7)\n",
    "plt.xlabel(\"x (Geometrized units)\")\n",
    "plt.ylabel(\"y (Geometrized units)\")\n",
    "plt.show()"
   ]
  },
  {
   "cell_type": "markdown",
   "id": "e5d6c89e-32c8-4cd2-a7da-2dc4f9d2fe59",
   "metadata": {},
   "source": [
    "## Multiple photons starting at x=-10 and moving to the right"
   ]
  },
  {
   "cell_type": "code",
   "execution_count": null,
   "id": "e44b1fd6-fc1d-4850-90fa-badeb53dd0fe",
   "metadata": {},
   "outputs": [],
   "source": [
    "circle1 = plt.Circle((0, 0), 2, color='k')\n",
    "fig, ax = plt.subplots(figsize=(6,6))\n",
    "ax.add_patch(circle1)\n",
    "\n",
    "nr = 21\n",
    "for k_xyz, x_xyz , result in gi.geodesic(\\\n",
    "                        k0_xyz = [np.array([0.1, 0.0, 0.0]) for i in range(nr)], \\\n",
    "                        x0_xyz = [np.array([-10.0, 10-i, 0.0]) for i in range(nr)], \\\n",
    "                        curve_end=500, nr_points_curve=500):\n",
    "    ax.plot(*x_xyz[0:2])\n",
    "\n",
    "lim = 11\n",
    "plt.xlim(-lim, lim)\n",
    "plt.ylim(-lim, lim)\n",
    "plt.xlabel(\"x (Geometrized units)\")\n",
    "plt.ylabel(\"y (Geometrized units)\")\n",
    "plt.show()"
   ]
  },
  {
   "cell_type": "code",
   "execution_count": null,
   "id": "dd3d4738-6951-4f22-a7c1-8c16d18dfe5d",
   "metadata": {},
   "outputs": [],
   "source": []
  }
 ],
 "metadata": {
  "kernelspec": {
   "display_name": "ve",
   "language": "python",
   "name": "ve"
  },
  "language_info": {
   "codemirror_mode": {
    "name": "ipython",
    "version": 3
   },
   "file_extension": ".py",
   "mimetype": "text/x-python",
   "name": "python",
   "nbconvert_exporter": "python",
   "pygments_lexer": "ipython3",
   "version": "3.9.13"
  }
 },
 "nbformat": 4,
 "nbformat_minor": 5
}
