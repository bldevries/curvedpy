{
 "cells": [
  {
   "cell_type": "markdown",
   "id": "f69be424-0b94-430c-916b-6c858699b84e",
   "metadata": {},
   "source": [
    "# Stringifying the KerrSchild metric equations"
   ]
  },
  {
   "cell_type": "markdown",
   "id": "f4fa44b5-5e0a-4154-b779-9afe7eca9f92",
   "metadata": {},
   "source": [
    "In KerrSchild \"Cartesian\" coordinates the metric can be written as (see Visser 2008):\n",
    "$$\n",
    "g_{\\mu\\nu} = \\eta_{\\mu\\nu} + \\frac{2 m r^3}{r^4 + a^2 z^2} l_{\\mu} l_{\\nu}\n",
    "$$\n",
    "Where\n",
    "$$\n",
    "l_{\\mu} = \\left(1, \\frac{rx+ay}{r^2+a^2}, \\frac{ry-ax}{r^2+a^2}, \\frac{z}{r} \\right)\n",
    "$$\n",
    "The inverse becomes:\n",
    "$$\n",
    "g^{\\mu\\nu} = \\eta^{\\mu\\nu} - \\frac{2 m r^3}{r^4 + a^2 z^2} l^{\\mu} l^{\\nu}\n",
    "$$\n",
    "Where\n",
    "$$\n",
    "l^{\\mu} = \\left(-1, \\frac{rx+ay}{r^2+a^2}, \\frac{ry-ax}{r^2+a^2}, \\frac{z}{r} \\right)\n",
    "$$\n",
    "And we explicitly have:\n",
    "$$\n",
    "R^2 = x^2+y^2+z^2\n",
    "$$\n",
    "And\n",
    "$$\n",
    "r(x, y, z) = \\sqrt{\\frac{R^2 - a^2 + \\sqrt{(R^2-a^2)^2 + 4 a^2 z^2}}{2}}\n",
    "$$"
   ]
  },
  {
   "cell_type": "markdown",
   "id": "aaab58d6-3fac-403c-aa38-370fc4cb5a43",
   "metadata": {},
   "source": [
    "Thus we \"only\" need to derive the derivative of the metric tensor"
   ]
  },
  {
   "cell_type": "code",
   "execution_count": 1,
   "id": "9e9b664e-5a61-4a19-b595-8f41104cb4ee",
   "metadata": {},
   "outputs": [],
   "source": [
    "import sympy as sp"
   ]
  },
  {
   "cell_type": "code",
   "execution_count": 2,
   "id": "a929213c-a14e-407c-8a42-f6e369b3b32c",
   "metadata": {},
   "outputs": [],
   "source": [
    "t, x, y, z, r, R, a, m = sp.symbols('t x y z r R a m')\n",
    "R2 = x**2 + y**2 + z**2\n",
    "r_sub = sp.sqrt( (R2 - a**2 + sp.sqrt((R2 - a**2)**2 +4*a**2*z**2 ) )/2 )"
   ]
  },
  {
   "cell_type": "code",
   "execution_count": 3,
   "id": "2fb76d28-1b91-4d0c-b104-4bc9fc398f45",
   "metadata": {},
   "outputs": [
    {
     "data": {
      "text/latex": [
       "$\\displaystyle \\sqrt{- \\frac{a^{2}}{2} + \\frac{x^{2}}{2} + \\frac{y^{2}}{2} + \\frac{z^{2}}{2} + \\frac{\\sqrt{4 a^{2} z^{2} + \\left(- a^{2} + x^{2} + y^{2} + z^{2}\\right)^{2}}}{2}}$"
      ],
      "text/plain": [
       "sqrt(-a**2/2 + x**2/2 + y**2/2 + z**2/2 + sqrt(4*a**2*z**2 + (-a**2 + x**2 + y**2 + z**2)**2)/2)"
      ]
     },
     "execution_count": 3,
     "metadata": {},
     "output_type": "execute_result"
    }
   ],
   "source": [
    "r_sub"
   ]
  },
  {
   "cell_type": "code",
   "execution_count": 4,
   "id": "574af984-27df-4955-9a70-f23e4338884b",
   "metadata": {},
   "outputs": [],
   "source": [
    "def l__alpha(alpha):\n",
    "    if alpha == 0:\n",
    "        return 1.0\n",
    "    elif alpha == 1:\n",
    "        return (r * x + a * y)/(r**2 + a**2)\n",
    "    elif alpha == 2:\n",
    "        return (r*y - a*x)/(r**2 + a**2)\n",
    "    elif alpha == 3:\n",
    "        return z/r\n",
    "\n",
    "def l_alpha(alpha):\n",
    "    if alpha == 0:\n",
    "        return -1.0\n",
    "    elif alpha == 1:\n",
    "        return (r * x + a * y)/(r**2 + a**2)\n",
    "    elif alpha == 2:\n",
    "        return (r*y - a*x)/(r**2 + a**2)\n",
    "    elif alpha == 3:\n",
    "        return z/r"
   ]
  },
  {
   "cell_type": "code",
   "execution_count": 5,
   "id": "3fbcc93a-c160-4d61-8069-d3a910ad7ff9",
   "metadata": {},
   "outputs": [],
   "source": [
    "eta__mu__nu = sp.Matrix([  [-1,0,0,0],\\\n",
    "                        [0,1,0,0],\\\n",
    "                        [0,0,1,0],\\\n",
    "                        [0,0,0,1]])\n",
    "\n",
    "eta_mu_nu = sp.Matrix([  [-1,0,0,0],\\\n",
    "                        [0,1,0,0],\\\n",
    "                        [0,0,1,0],\\\n",
    "                        [0,0,0,1]])"
   ]
  },
  {
   "cell_type": "code",
   "execution_count": 6,
   "id": "37540766-a766-4500-aa8a-d5cad7f42612",
   "metadata": {},
   "outputs": [
    {
     "data": {
      "text/latex": [
       "$\\displaystyle \\left[\\begin{matrix}1 & 0 & 0 & 0\\\\0 & 1 & 0 & 0\\\\0 & 0 & 1 & 0\\\\0 & 0 & 0 & 1\\end{matrix}\\right]$"
      ],
      "text/plain": [
       "Matrix([\n",
       "[1, 0, 0, 0],\n",
       "[0, 1, 0, 0],\n",
       "[0, 0, 1, 0],\n",
       "[0, 0, 0, 1]])"
      ]
     },
     "execution_count": 6,
     "metadata": {},
     "output_type": "execute_result"
    }
   ],
   "source": [
    "eta__mu__nu*eta_mu_nu"
   ]
  },
  {
   "cell_type": "code",
   "execution_count": 7,
   "id": "f2ed7137-609d-4aaa-b47d-a9713b9a7210",
   "metadata": {},
   "outputs": [],
   "source": [
    "g__mu__nu = sp.Matrix([[\\\n",
    "    eta__mu__nu[mu,nu] + (2*m*r**3)/(r**4 + a**2*z**2) * l__alpha(mu) * l__alpha(nu) \\\n",
    "    for nu in [0,1,2,3]] for mu in [0,1,2,3]])"
   ]
  },
  {
   "cell_type": "code",
   "execution_count": 8,
   "id": "40a86371-7ef6-4e22-9d81-af36ff187b0e",
   "metadata": {},
   "outputs": [
    {
     "data": {
      "text/latex": [
       "$\\displaystyle \\left[\\begin{matrix}\\frac{2.0 m r^{3}}{a^{2} z^{2} + r^{4}} - 1 & \\frac{2.0 m r^{3} \\left(a y + r x\\right)}{\\left(a^{2} + r^{2}\\right) \\left(a^{2} z^{2} + r^{4}\\right)} & \\frac{2.0 m r^{3} \\left(- a x + r y\\right)}{\\left(a^{2} + r^{2}\\right) \\left(a^{2} z^{2} + r^{4}\\right)} & \\frac{2.0 m r^{2} z}{a^{2} z^{2} + r^{4}}\\\\\\frac{2.0 m r^{3} \\left(a y + r x\\right)}{\\left(a^{2} + r^{2}\\right) \\left(a^{2} z^{2} + r^{4}\\right)} & \\frac{2 m r^{3} \\left(a y + r x\\right)^{2}}{\\left(a^{2} + r^{2}\\right)^{2} \\left(a^{2} z^{2} + r^{4}\\right)} + 1 & \\frac{2 m r^{3} \\left(- a x + r y\\right) \\left(a y + r x\\right)}{\\left(a^{2} + r^{2}\\right)^{2} \\left(a^{2} z^{2} + r^{4}\\right)} & \\frac{2 m r^{2} z \\left(a y + r x\\right)}{\\left(a^{2} + r^{2}\\right) \\left(a^{2} z^{2} + r^{4}\\right)}\\\\\\frac{2.0 m r^{3} \\left(- a x + r y\\right)}{\\left(a^{2} + r^{2}\\right) \\left(a^{2} z^{2} + r^{4}\\right)} & \\frac{2 m r^{3} \\left(- a x + r y\\right) \\left(a y + r x\\right)}{\\left(a^{2} + r^{2}\\right)^{2} \\left(a^{2} z^{2} + r^{4}\\right)} & \\frac{2 m r^{3} \\left(- a x + r y\\right)^{2}}{\\left(a^{2} + r^{2}\\right)^{2} \\left(a^{2} z^{2} + r^{4}\\right)} + 1 & \\frac{2 m r^{2} z \\left(- a x + r y\\right)}{\\left(a^{2} + r^{2}\\right) \\left(a^{2} z^{2} + r^{4}\\right)}\\\\\\frac{2.0 m r^{2} z}{a^{2} z^{2} + r^{4}} & \\frac{2 m r^{2} z \\left(a y + r x\\right)}{\\left(a^{2} + r^{2}\\right) \\left(a^{2} z^{2} + r^{4}\\right)} & \\frac{2 m r^{2} z \\left(- a x + r y\\right)}{\\left(a^{2} + r^{2}\\right) \\left(a^{2} z^{2} + r^{4}\\right)} & \\frac{2 m r z^{2}}{a^{2} z^{2} + r^{4}} + 1\\end{matrix}\\right]$"
      ],
      "text/plain": [
       "Matrix([\n",
       "[                         2.0*m*r**3/(a**2*z**2 + r**4) - 1,               2.0*m*r**3*(a*y + r*x)/((a**2 + r**2)*(a**2*z**2 + r**4)),              2.0*m*r**3*(-a*x + r*y)/((a**2 + r**2)*(a**2*z**2 + r**4)),                            2.0*m*r**2*z/(a**2*z**2 + r**4)],\n",
       "[ 2.0*m*r**3*(a*y + r*x)/((a**2 + r**2)*(a**2*z**2 + r**4)),       2*m*r**3*(a*y + r*x)**2/((a**2 + r**2)**2*(a**2*z**2 + r**4)) + 1, 2*m*r**3*(-a*x + r*y)*(a*y + r*x)/((a**2 + r**2)**2*(a**2*z**2 + r**4)),  2*m*r**2*z*(a*y + r*x)/((a**2 + r**2)*(a**2*z**2 + r**4))],\n",
       "[2.0*m*r**3*(-a*x + r*y)/((a**2 + r**2)*(a**2*z**2 + r**4)), 2*m*r**3*(-a*x + r*y)*(a*y + r*x)/((a**2 + r**2)**2*(a**2*z**2 + r**4)),      2*m*r**3*(-a*x + r*y)**2/((a**2 + r**2)**2*(a**2*z**2 + r**4)) + 1, 2*m*r**2*z*(-a*x + r*y)/((a**2 + r**2)*(a**2*z**2 + r**4))],\n",
       "[                           2.0*m*r**2*z/(a**2*z**2 + r**4),               2*m*r**2*z*(a*y + r*x)/((a**2 + r**2)*(a**2*z**2 + r**4)),              2*m*r**2*z*(-a*x + r*y)/((a**2 + r**2)*(a**2*z**2 + r**4)),                          2*m*r*z**2/(a**2*z**2 + r**4) + 1]])"
      ]
     },
     "execution_count": 8,
     "metadata": {},
     "output_type": "execute_result"
    }
   ],
   "source": [
    "g__mu__nu"
   ]
  },
  {
   "cell_type": "code",
   "execution_count": 9,
   "id": "8c1a57ff-281b-4429-beef-48cb396f94ef",
   "metadata": {},
   "outputs": [
    {
     "data": {
      "text/plain": [
       "'Matrix([[2.0*m*r**3/(a**2*z**2 + r**4) - 1, 2.0*m*r**3*(a*y + r*x)/((a**2 + r**2)*(a**2*z**2 + r**4)), 2.0*m*r**3*(-a*x + r*y)/((a**2 + r**2)*(a**2*z**2 + r**4)), 2.0*m*r**2*z/(a**2*z**2 + r**4)], [2.0*m*r**3*(a*y + r*x)/((a**2 + r**2)*(a**2*z**2 + r**4)), 2*m*r**3*(a*y + r*x)**2/((a**2 + r**2)**2*(a**2*z**2 + r**4)) + 1, 2*m*r**3*(-a*x + r*y)*(a*y + r*x)/((a**2 + r**2)**2*(a**2*z**2 + r**4)), 2*m*r**2*z*(a*y + r*x)/((a**2 + r**2)*(a**2*z**2 + r**4))], [2.0*m*r**3*(-a*x + r*y)/((a**2 + r**2)*(a**2*z**2 + r**4)), 2*m*r**3*(-a*x + r*y)*(a*y + r*x)/((a**2 + r**2)**2*(a**2*z**2 + r**4)), 2*m*r**3*(-a*x + r*y)**2/((a**2 + r**2)**2*(a**2*z**2 + r**4)) + 1, 2*m*r**2*z*(-a*x + r*y)/((a**2 + r**2)*(a**2*z**2 + r**4))], [2.0*m*r**2*z/(a**2*z**2 + r**4), 2*m*r**2*z*(a*y + r*x)/((a**2 + r**2)*(a**2*z**2 + r**4)), 2*m*r**2*z*(-a*x + r*y)/((a**2 + r**2)*(a**2*z**2 + r**4)), 2*m*r*z**2/(a**2*z**2 + r**4) + 1]])'"
      ]
     },
     "execution_count": 9,
     "metadata": {},
     "output_type": "execute_result"
    }
   ],
   "source": [
    "str(g__mu__nu)"
   ]
  },
  {
   "cell_type": "code",
   "execution_count": 10,
   "id": "c9a1451f-e4b9-4c91-8644-ae22a553f39b",
   "metadata": {},
   "outputs": [],
   "source": [
    "g_mu_nu = sp.Matrix([[\\\n",
    "    eta_mu_nu[mu,nu] - (2*m*r**3)/(r**4 + a**2*z**2) * l_alpha(mu) * l_alpha(nu) \\\n",
    "    for nu in [0,1,2,3]] for mu in [0,1,2,3]])"
   ]
  },
  {
   "cell_type": "code",
   "execution_count": 11,
   "id": "7256d805-0062-4d6d-9d8e-8a08349a203a",
   "metadata": {},
   "outputs": [
    {
     "data": {
      "text/plain": [
       "'Matrix([[-2.0*m*r**3/(a**2*z**2 + r**4) - 1, 2.0*m*r**3*(a*y + r*x)/((a**2 + r**2)*(a**2*z**2 + r**4)), 2.0*m*r**3*(-a*x + r*y)/((a**2 + r**2)*(a**2*z**2 + r**4)), 2.0*m*r**2*z/(a**2*z**2 + r**4)], [2.0*m*r**3*(a*y + r*x)/((a**2 + r**2)*(a**2*z**2 + r**4)), -2*m*r**3*(a*y + r*x)**2/((a**2 + r**2)**2*(a**2*z**2 + r**4)) + 1, -2*m*r**3*(-a*x + r*y)*(a*y + r*x)/((a**2 + r**2)**2*(a**2*z**2 + r**4)), -2*m*r**2*z*(a*y + r*x)/((a**2 + r**2)*(a**2*z**2 + r**4))], [2.0*m*r**3*(-a*x + r*y)/((a**2 + r**2)*(a**2*z**2 + r**4)), -2*m*r**3*(-a*x + r*y)*(a*y + r*x)/((a**2 + r**2)**2*(a**2*z**2 + r**4)), -2*m*r**3*(-a*x + r*y)**2/((a**2 + r**2)**2*(a**2*z**2 + r**4)) + 1, -2*m*r**2*z*(-a*x + r*y)/((a**2 + r**2)*(a**2*z**2 + r**4))], [2.0*m*r**2*z/(a**2*z**2 + r**4), -2*m*r**2*z*(a*y + r*x)/((a**2 + r**2)*(a**2*z**2 + r**4)), -2*m*r**2*z*(-a*x + r*y)/((a**2 + r**2)*(a**2*z**2 + r**4)), -2*m*r*z**2/(a**2*z**2 + r**4) + 1]])'"
      ]
     },
     "execution_count": 11,
     "metadata": {},
     "output_type": "execute_result"
    }
   ],
   "source": [
    "str(g_mu_nu)"
   ]
  },
  {
   "cell_type": "code",
   "execution_count": 12,
   "id": "7eabc0ad-a865-41d0-bd2f-0733ecd68da5",
   "metadata": {},
   "outputs": [
    {
     "data": {
      "text/latex": [
       "$\\displaystyle \\left[\\begin{matrix}- \\frac{2.0 m r^{3}}{a^{2} z^{2} + r^{4}} - 1 & \\frac{2.0 m r^{3} \\left(a y + r x\\right)}{\\left(a^{2} + r^{2}\\right) \\left(a^{2} z^{2} + r^{4}\\right)} & \\frac{2.0 m r^{3} \\left(- a x + r y\\right)}{\\left(a^{2} + r^{2}\\right) \\left(a^{2} z^{2} + r^{4}\\right)} & \\frac{2.0 m r^{2} z}{a^{2} z^{2} + r^{4}}\\\\\\frac{2.0 m r^{3} \\left(a y + r x\\right)}{\\left(a^{2} + r^{2}\\right) \\left(a^{2} z^{2} + r^{4}\\right)} & - \\frac{2 m r^{3} \\left(a y + r x\\right)^{2}}{\\left(a^{2} + r^{2}\\right)^{2} \\left(a^{2} z^{2} + r^{4}\\right)} + 1 & - \\frac{2 m r^{3} \\left(- a x + r y\\right) \\left(a y + r x\\right)}{\\left(a^{2} + r^{2}\\right)^{2} \\left(a^{2} z^{2} + r^{4}\\right)} & - \\frac{2 m r^{2} z \\left(a y + r x\\right)}{\\left(a^{2} + r^{2}\\right) \\left(a^{2} z^{2} + r^{4}\\right)}\\\\\\frac{2.0 m r^{3} \\left(- a x + r y\\right)}{\\left(a^{2} + r^{2}\\right) \\left(a^{2} z^{2} + r^{4}\\right)} & - \\frac{2 m r^{3} \\left(- a x + r y\\right) \\left(a y + r x\\right)}{\\left(a^{2} + r^{2}\\right)^{2} \\left(a^{2} z^{2} + r^{4}\\right)} & - \\frac{2 m r^{3} \\left(- a x + r y\\right)^{2}}{\\left(a^{2} + r^{2}\\right)^{2} \\left(a^{2} z^{2} + r^{4}\\right)} + 1 & - \\frac{2 m r^{2} z \\left(- a x + r y\\right)}{\\left(a^{2} + r^{2}\\right) \\left(a^{2} z^{2} + r^{4}\\right)}\\\\\\frac{2.0 m r^{2} z}{a^{2} z^{2} + r^{4}} & - \\frac{2 m r^{2} z \\left(a y + r x\\right)}{\\left(a^{2} + r^{2}\\right) \\left(a^{2} z^{2} + r^{4}\\right)} & - \\frac{2 m r^{2} z \\left(- a x + r y\\right)}{\\left(a^{2} + r^{2}\\right) \\left(a^{2} z^{2} + r^{4}\\right)} & - \\frac{2 m r z^{2}}{a^{2} z^{2} + r^{4}} + 1\\end{matrix}\\right]$"
      ],
      "text/plain": [
       "Matrix([\n",
       "[                        -2.0*m*r**3/(a**2*z**2 + r**4) - 1,                2.0*m*r**3*(a*y + r*x)/((a**2 + r**2)*(a**2*z**2 + r**4)),               2.0*m*r**3*(-a*x + r*y)/((a**2 + r**2)*(a**2*z**2 + r**4)),                             2.0*m*r**2*z/(a**2*z**2 + r**4)],\n",
       "[ 2.0*m*r**3*(a*y + r*x)/((a**2 + r**2)*(a**2*z**2 + r**4)),       -2*m*r**3*(a*y + r*x)**2/((a**2 + r**2)**2*(a**2*z**2 + r**4)) + 1, -2*m*r**3*(-a*x + r*y)*(a*y + r*x)/((a**2 + r**2)**2*(a**2*z**2 + r**4)),  -2*m*r**2*z*(a*y + r*x)/((a**2 + r**2)*(a**2*z**2 + r**4))],\n",
       "[2.0*m*r**3*(-a*x + r*y)/((a**2 + r**2)*(a**2*z**2 + r**4)), -2*m*r**3*(-a*x + r*y)*(a*y + r*x)/((a**2 + r**2)**2*(a**2*z**2 + r**4)),      -2*m*r**3*(-a*x + r*y)**2/((a**2 + r**2)**2*(a**2*z**2 + r**4)) + 1, -2*m*r**2*z*(-a*x + r*y)/((a**2 + r**2)*(a**2*z**2 + r**4))],\n",
       "[                           2.0*m*r**2*z/(a**2*z**2 + r**4),               -2*m*r**2*z*(a*y + r*x)/((a**2 + r**2)*(a**2*z**2 + r**4)),              -2*m*r**2*z*(-a*x + r*y)/((a**2 + r**2)*(a**2*z**2 + r**4)),                          -2*m*r*z**2/(a**2*z**2 + r**4) + 1]])"
      ]
     },
     "execution_count": 12,
     "metadata": {},
     "output_type": "execute_result"
    }
   ],
   "source": [
    "g_mu_nu"
   ]
  },
  {
   "cell_type": "code",
   "execution_count": 13,
   "id": "228b28fa-183c-49f9-bba5-f6677217dd51",
   "metadata": {},
   "outputs": [
    {
     "data": {
      "text/latex": [
       "$\\displaystyle - a^{2} + x^{2} + y^{2} + z^{2} + \\sqrt{4 a^{2} z^{2} + \\left(- a^{2} + x^{2} + y^{2} + z^{2}\\right)^{2}}$"
      ],
      "text/plain": [
       "-a**2 + x**2 + y**2 + z**2 + sqrt(4*a**2*z**2 + (-a**2 + x**2 + y**2 + z**2)**2)"
      ]
     },
     "execution_count": 13,
     "metadata": {},
     "output_type": "execute_result"
    }
   ],
   "source": [
    "2*r_sub**2"
   ]
  },
  {
   "cell_type": "code",
   "execution_count": 14,
   "id": "da4ec245-c5ea-4bf4-9355-8ca8d9c74f7e",
   "metadata": {},
   "outputs": [],
   "source": [
    "dg__mu__nu_dt = sp.simplify(g__mu__nu\\\n",
    "            .subs(r, r_sub)\\\n",
    "            .diff(t).subs(r_sub, r)\\\n",
    "            .subs(r_sub**2 + a**2, r**2 + a**2)\n",
    "           ).subs(-a**2+x**2+y**2+z**2+sp.sqrt(4*a**2*z**2 + (-a**2+x**2+y**2+z**2)**2), 2*r**2)"
   ]
  },
  {
   "cell_type": "code",
   "execution_count": 15,
   "id": "b3d0afce-0ecb-4ca5-8145-bfb8102ef9ef",
   "metadata": {},
   "outputs": [
    {
     "data": {
      "text/plain": [
       "'Matrix([[0, 0, 0, 0], [0, 0, 0, 0], [0, 0, 0, 0], [0, 0, 0, 0]])'"
      ]
     },
     "execution_count": 15,
     "metadata": {},
     "output_type": "execute_result"
    }
   ],
   "source": [
    "str(dg__mu__nu_dt)"
   ]
  },
  {
   "cell_type": "code",
   "execution_count": 16,
   "id": "38d0befd-80a8-4bf5-9262-25907f52eda7",
   "metadata": {},
   "outputs": [],
   "source": [
    "dg__mu__nu_dx = sp.simplify(g__mu__nu\\\n",
    "            .subs(r, r_sub)\\\n",
    "            .diff(x).subs(r_sub, r)\\\n",
    "            .subs(r_sub**2 + a**2, r**2 + a**2)\n",
    "           ).subs(-a**2+x**2+y**2+z**2+sp.sqrt(4*a**2*z**2 + (-a**2+x**2+y**2+z**2)**2), 2*r**2)"
   ]
  },
  {
   "cell_type": "code",
   "execution_count": 17,
   "id": "c63aadde-ee10-4c1d-bb50-56e91fe3865b",
   "metadata": {},
   "outputs": [
    {
     "data": {
      "text/plain": [
       "'Matrix([[2*m*r**3*x*(3.0*a**2*z**2 - 1.0*r**4)/((a**2*z**2 + r**4)**2*sqrt(4*a**2*z**2 + (-a**2 + x**2 + y**2 + z**2)**2)), m*r*(-8.0*r**6*x*(a**2 + r**2)*(a*y + r*x) - 4.0*r**4*x*(a*y + r*x)*(a**2*z**2 + r**4) + (a**2 + r**2)*(a**2*z**2 + r**4)*(6.0*r**2*x*(a*y + r*x) + 1.0*r*(2*r**2*x**2 + 2*r**2*sqrt(4*a**2*z**2 + (-a**2 + x**2 + y**2 + z**2)**2))))/((a**2 + r**2)**2*(a**2*z**2 + r**4)**2*sqrt(4*a**2*z**2 + (-a**2 + x**2 + y**2 + z**2)**2)), m*r*(8.0*r**6*x*(a**2 + r**2)*(a*x - r*y) + 4.0*r**4*x*(a*x - r*y)*(a**2*z**2 + r**4) - (a**2 + r**2)*(a**2*z**2 + r**4)*(6.0*r**2*x*(a*x - r*y) + 1.0*r*(2*a*r*sqrt(4*a**2*z**2 + (-a**2 + x**2 + y**2 + z**2)**2) - 2*r**2*x*y)))/((a**2 + r**2)**2*(a**2*z**2 + r**4)**2*sqrt(4*a**2*z**2 + (-a**2 + x**2 + y**2 + z**2)**2)), 4.0*m*r**2*x*z*(a**2*z**2 - r**4)/((a**2*z**2 + r**4)**2*sqrt(4*a**2*z**2 + (-a**2 + x**2 + y**2 + z**2)**2))], [m*r*(-8.0*r**6*x*(a**2 + r**2)*(a*y + r*x) - 4.0*r**4*x*(a*y + r*x)*(a**2*z**2 + r**4) + (a**2 + r**2)*(a**2*z**2 + r**4)*(6.0*r**2*x*(a*y + r*x) + 1.0*r*(2*r**2*x**2 + 2*r**2*sqrt(4*a**2*z**2 + (-a**2 + x**2 + y**2 + z**2)**2))))/((a**2 + r**2)**2*(a**2*z**2 + r**4)**2*sqrt(4*a**2*z**2 + (-a**2 + x**2 + y**2 + z**2)**2)), m*r*(a*y + r*x)*(-8*r**6*x*(a**2 + r**2)*(a*y + r*x) - 8*r**4*x*(a*y + r*x)*(a**2*z**2 + r**4) + (a**2 + r**2)*(a**2*z**2 + r**4)*(6*r**2*x*(a*y + r*x) + 2*r*(2*r**2*x**2 + 2*r**2*sqrt(4*a**2*z**2 + (-a**2 + x**2 + y**2 + z**2)**2))))/((a**2 + r**2)**3*(a**2*z**2 + r**4)**2*sqrt(4*a**2*z**2 + (-a**2 + x**2 + y**2 + z**2)**2)), m*r*(8*r**6*x*(a**2 + r**2)*(a*x - r*y)*(a*y + r*x) + 8*r**4*x*(a*x - r*y)*(a*y + r*x)*(a**2*z**2 + r**4) - (a**2 + r**2)*(a**2*z**2 + r**4)*(6*r**2*x*(a*x - r*y)*(a*y + r*x) + r*(a*x - r*y)*(2*r**2*x**2 + 2*r**2*sqrt(4*a**2*z**2 + (-a**2 + x**2 + y**2 + z**2)**2)) + r*(a*y + r*x)*(2*a*r*sqrt(4*a**2*z**2 + (-a**2 + x**2 + y**2 + z**2)**2) - 2*r**2*x*y)))/((a**2 + r**2)**3*(a**2*z**2 + r**4)**2*sqrt(4*a**2*z**2 + (-a**2 + x**2 + y**2 + z**2)**2)), m*r*z*(-8*r**5*x*(a**2 + r**2)*(a*y + r*x) - 4*r**3*x*(a*y + r*x)*(a**2*z**2 + r**4) + 4*r*x*(a**2 + r**2)*(a*y + r*x)*(a**2*z**2 + r**4) + (a**2 + r**2)*(a**2*z**2 + r**4)*(2*r**2*x**2 + 2*r**2*sqrt(4*a**2*z**2 + (-a**2 + x**2 + y**2 + z**2)**2)))/((a**2 + r**2)**2*(a**2*z**2 + r**4)**2*sqrt(4*a**2*z**2 + (-a**2 + x**2 + y**2 + z**2)**2))], [m*r*(8.0*r**6*x*(a**2 + r**2)*(a*x - r*y) + 4.0*r**4*x*(a*x - r*y)*(a**2*z**2 + r**4) - (a**2 + r**2)*(a**2*z**2 + r**4)*(6.0*r**2*x*(a*x - r*y) + 1.0*r*(2*a*r*sqrt(4*a**2*z**2 + (-a**2 + x**2 + y**2 + z**2)**2) - 2*r**2*x*y)))/((a**2 + r**2)**2*(a**2*z**2 + r**4)**2*sqrt(4*a**2*z**2 + (-a**2 + x**2 + y**2 + z**2)**2)), m*r*(8*r**6*x*(a**2 + r**2)*(a*x - r*y)*(a*y + r*x) + 8*r**4*x*(a*x - r*y)*(a*y + r*x)*(a**2*z**2 + r**4) - (a**2 + r**2)*(a**2*z**2 + r**4)*(6*r**2*x*(a*x - r*y)*(a*y + r*x) + r*(a*x - r*y)*(2*r**2*x**2 + 2*r**2*sqrt(4*a**2*z**2 + (-a**2 + x**2 + y**2 + z**2)**2)) + r*(a*y + r*x)*(2*a*r*sqrt(4*a**2*z**2 + (-a**2 + x**2 + y**2 + z**2)**2) - 2*r**2*x*y)))/((a**2 + r**2)**3*(a**2*z**2 + r**4)**2*sqrt(4*a**2*z**2 + (-a**2 + x**2 + y**2 + z**2)**2)), m*r*(a*x - r*y)*(-8*r**6*x*(a**2 + r**2)*(a*x - r*y) - 8*r**4*x*(a*x - r*y)*(a**2*z**2 + r**4) + (a**2 + r**2)*(a**2*z**2 + r**4)*(6*r**2*x*(a*x - r*y) + 2*r*(2*a*r*sqrt(4*a**2*z**2 + (-a**2 + x**2 + y**2 + z**2)**2) - 2*r**2*x*y)))/((a**2 + r**2)**3*(a**2*z**2 + r**4)**2*sqrt(4*a**2*z**2 + (-a**2 + x**2 + y**2 + z**2)**2)), m*r*z*(8*r**5*x*(a**2 + r**2)*(a*x - r*y) + 4*r**3*x*(a*x - r*y)*(a**2*z**2 + r**4) - 4*r*x*(a**2 + r**2)*(a*x - r*y)*(a**2*z**2 + r**4) - (a**2 + r**2)*(a**2*z**2 + r**4)*(2*a*r*sqrt(4*a**2*z**2 + (-a**2 + x**2 + y**2 + z**2)**2) - 2*r**2*x*y))/((a**2 + r**2)**2*(a**2*z**2 + r**4)**2*sqrt(4*a**2*z**2 + (-a**2 + x**2 + y**2 + z**2)**2))], [4.0*m*r**2*x*z*(a**2*z**2 - r**4)/((a**2*z**2 + r**4)**2*sqrt(4*a**2*z**2 + (-a**2 + x**2 + y**2 + z**2)**2)), m*r*z*(-8*r**5*x*(a**2 + r**2)*(a*y + r*x) - 4*r**3*x*(a*y + r*x)*(a**2*z**2 + r**4) + 4*r*x*(a**2 + r**2)*(a*y + r*x)*(a**2*z**2 + r**4) + (a**2 + r**2)*(a**2*z**2 + r**4)*(2*r**2*x**2 + 2*r**2*sqrt(4*a**2*z**2 + (-a**2 + x**2 + y**2 + z**2)**2)))/((a**2 + r**2)**2*(a**2*z**2 + r**4)**2*sqrt(4*a**2*z**2 + (-a**2 + x**2 + y**2 + z**2)**2)), m*r*z*(8*r**5*x*(a**2 + r**2)*(a*x - r*y) + 4*r**3*x*(a*x - r*y)*(a**2*z**2 + r**4) - 4*r*x*(a**2 + r**2)*(a*x - r*y)*(a**2*z**2 + r**4) - (a**2 + r**2)*(a**2*z**2 + r**4)*(2*a*r*sqrt(4*a**2*z**2 + (-a**2 + x**2 + y**2 + z**2)**2) - 2*r**2*x*y))/((a**2 + r**2)**2*(a**2*z**2 + r**4)**2*sqrt(4*a**2*z**2 + (-a**2 + x**2 + y**2 + z**2)**2)), 2*m*r*x*z**2*(a**2*z**2 - 3*r**4)/((a**2*z**2 + r**4)**2*sqrt(4*a**2*z**2 + (-a**2 + x**2 + y**2 + z**2)**2))]])'"
      ]
     },
     "execution_count": 17,
     "metadata": {},
     "output_type": "execute_result"
    }
   ],
   "source": [
    "str(dg__mu__nu_dx)"
   ]
  },
  {
   "cell_type": "code",
   "execution_count": 18,
   "id": "77544784-522a-4c2e-9246-7952376c0bc4",
   "metadata": {},
   "outputs": [],
   "source": [
    "dg__mu__nu_dy = sp.simplify(g__mu__nu\\\n",
    "            .subs(r, r_sub)\\\n",
    "            .diff(y).subs(r_sub, r)\\\n",
    "            .subs(r_sub**2 + a**2, r**2 + a**2)\n",
    "           ).subs(-a**2+x**2+y**2+z**2+sp.sqrt(4*a**2*z**2 + (-a**2+x**2+y**2+z**2)**2), 2*r**2)"
   ]
  },
  {
   "cell_type": "code",
   "execution_count": 19,
   "id": "2b14a2ec-1538-4d21-8b48-7969739c3e80",
   "metadata": {},
   "outputs": [
    {
     "data": {
      "text/plain": [
       "'Matrix([[2*m*r**3*y*(3.0*a**2*z**2 - 1.0*r**4)/((a**2*z**2 + r**4)**2*sqrt(4*a**2*z**2 + (-a**2 + x**2 + y**2 + z**2)**2)), m*r*(-8.0*r**6*y*(a**2 + r**2)*(a*y + r*x) - 4.0*r**4*y*(a*y + r*x)*(a**2*z**2 + r**4) + (a**2 + r**2)*(a**2*z**2 + r**4)*(6.0*r**2*y*(a*y + r*x) + 1.0*r*(2*a*r*sqrt(4*a**2*z**2 + (-a**2 + x**2 + y**2 + z**2)**2) + 2*r**2*x*y)))/((a**2 + r**2)**2*(a**2*z**2 + r**4)**2*sqrt(4*a**2*z**2 + (-a**2 + x**2 + y**2 + z**2)**2)), m*r*(8.0*r**6*y*(a**2 + r**2)*(a*x - r*y) + 4.0*r**4*y*(a*x - r*y)*(a**2*z**2 + r**4) + (a**2 + r**2)*(a**2*z**2 + r**4)*(-6.0*r**2*y*(a*x - r*y) + 1.0*r*(2*r**2*y**2 + 2*r**2*sqrt(4*a**2*z**2 + (-a**2 + x**2 + y**2 + z**2)**2))))/((a**2 + r**2)**2*(a**2*z**2 + r**4)**2*sqrt(4*a**2*z**2 + (-a**2 + x**2 + y**2 + z**2)**2)), 4.0*m*r**2*y*z*(a**2*z**2 - r**4)/((a**2*z**2 + r**4)**2*sqrt(4*a**2*z**2 + (-a**2 + x**2 + y**2 + z**2)**2))], [m*r*(-8.0*r**6*y*(a**2 + r**2)*(a*y + r*x) - 4.0*r**4*y*(a*y + r*x)*(a**2*z**2 + r**4) + (a**2 + r**2)*(a**2*z**2 + r**4)*(6.0*r**2*y*(a*y + r*x) + 1.0*r*(2*a*r*sqrt(4*a**2*z**2 + (-a**2 + x**2 + y**2 + z**2)**2) + 2*r**2*x*y)))/((a**2 + r**2)**2*(a**2*z**2 + r**4)**2*sqrt(4*a**2*z**2 + (-a**2 + x**2 + y**2 + z**2)**2)), m*r*(a*y + r*x)*(-8*r**6*y*(a**2 + r**2)*(a*y + r*x) - 8*r**4*y*(a*y + r*x)*(a**2*z**2 + r**4) + (a**2 + r**2)*(a**2*z**2 + r**4)*(6*r**2*y*(a*y + r*x) + 2*r*(2*a*r*sqrt(4*a**2*z**2 + (-a**2 + x**2 + y**2 + z**2)**2) + 2*r**2*x*y)))/((a**2 + r**2)**3*(a**2*z**2 + r**4)**2*sqrt(4*a**2*z**2 + (-a**2 + x**2 + y**2 + z**2)**2)), m*r*(8*r**6*y*(a**2 + r**2)*(a*x - r*y)*(a*y + r*x) + 8*r**4*y*(a*x - r*y)*(a*y + r*x)*(a**2*z**2 + r**4) + (a**2 + r**2)*(a**2*z**2 + r**4)*(-6*r**2*y*(a*x - r*y)*(a*y + r*x) - r*(a*x - r*y)*(2*a*r*sqrt(4*a**2*z**2 + (-a**2 + x**2 + y**2 + z**2)**2) + 2*r**2*x*y) + r*(a*y + r*x)*(2*r**2*y**2 + 2*r**2*sqrt(4*a**2*z**2 + (-a**2 + x**2 + y**2 + z**2)**2))))/((a**2 + r**2)**3*(a**2*z**2 + r**4)**2*sqrt(4*a**2*z**2 + (-a**2 + x**2 + y**2 + z**2)**2)), m*r*z*(-8*r**5*y*(a**2 + r**2)*(a*y + r*x) - 4*r**3*y*(a*y + r*x)*(a**2*z**2 + r**4) + 4*r*y*(a**2 + r**2)*(a*y + r*x)*(a**2*z**2 + r**4) + (a**2 + r**2)*(a**2*z**2 + r**4)*(2*a*r*sqrt(4*a**2*z**2 + (-a**2 + x**2 + y**2 + z**2)**2) + 2*r**2*x*y))/((a**2 + r**2)**2*(a**2*z**2 + r**4)**2*sqrt(4*a**2*z**2 + (-a**2 + x**2 + y**2 + z**2)**2))], [m*r*(8.0*r**6*y*(a**2 + r**2)*(a*x - r*y) + 4.0*r**4*y*(a*x - r*y)*(a**2*z**2 + r**4) + (a**2 + r**2)*(a**2*z**2 + r**4)*(-6.0*r**2*y*(a*x - r*y) + 1.0*r*(2*r**2*y**2 + 2*r**2*sqrt(4*a**2*z**2 + (-a**2 + x**2 + y**2 + z**2)**2))))/((a**2 + r**2)**2*(a**2*z**2 + r**4)**2*sqrt(4*a**2*z**2 + (-a**2 + x**2 + y**2 + z**2)**2)), m*r*(8*r**6*y*(a**2 + r**2)*(a*x - r*y)*(a*y + r*x) + 8*r**4*y*(a*x - r*y)*(a*y + r*x)*(a**2*z**2 + r**4) + (a**2 + r**2)*(a**2*z**2 + r**4)*(-6*r**2*y*(a*x - r*y)*(a*y + r*x) - r*(a*x - r*y)*(2*a*r*sqrt(4*a**2*z**2 + (-a**2 + x**2 + y**2 + z**2)**2) + 2*r**2*x*y) + r*(a*y + r*x)*(2*r**2*y**2 + 2*r**2*sqrt(4*a**2*z**2 + (-a**2 + x**2 + y**2 + z**2)**2))))/((a**2 + r**2)**3*(a**2*z**2 + r**4)**2*sqrt(4*a**2*z**2 + (-a**2 + x**2 + y**2 + z**2)**2)), m*r*(a*x - r*y)*(-8*r**6*y*(a**2 + r**2)*(a*x - r*y) - 8*r**4*y*(a*x - r*y)*(a**2*z**2 + r**4) + (a**2 + r**2)*(a**2*z**2 + r**4)*(6*r**2*y*(a*x - r*y) - 2*r*(2*r**2*y**2 + 2*r**2*sqrt(4*a**2*z**2 + (-a**2 + x**2 + y**2 + z**2)**2))))/((a**2 + r**2)**3*(a**2*z**2 + r**4)**2*sqrt(4*a**2*z**2 + (-a**2 + x**2 + y**2 + z**2)**2)), m*r*z*(8*r**5*y*(a**2 + r**2)*(a*x - r*y) + 4*r**3*y*(a*x - r*y)*(a**2*z**2 + r**4) - 4*r*y*(a**2 + r**2)*(a*x - r*y)*(a**2*z**2 + r**4) + (a**2 + r**2)*(a**2*z**2 + r**4)*(2*r**2*y**2 + 2*r**2*sqrt(4*a**2*z**2 + (-a**2 + x**2 + y**2 + z**2)**2)))/((a**2 + r**2)**2*(a**2*z**2 + r**4)**2*sqrt(4*a**2*z**2 + (-a**2 + x**2 + y**2 + z**2)**2))], [4.0*m*r**2*y*z*(a**2*z**2 - r**4)/((a**2*z**2 + r**4)**2*sqrt(4*a**2*z**2 + (-a**2 + x**2 + y**2 + z**2)**2)), m*r*z*(-8*r**5*y*(a**2 + r**2)*(a*y + r*x) - 4*r**3*y*(a*y + r*x)*(a**2*z**2 + r**4) + 4*r*y*(a**2 + r**2)*(a*y + r*x)*(a**2*z**2 + r**4) + (a**2 + r**2)*(a**2*z**2 + r**4)*(2*a*r*sqrt(4*a**2*z**2 + (-a**2 + x**2 + y**2 + z**2)**2) + 2*r**2*x*y))/((a**2 + r**2)**2*(a**2*z**2 + r**4)**2*sqrt(4*a**2*z**2 + (-a**2 + x**2 + y**2 + z**2)**2)), m*r*z*(8*r**5*y*(a**2 + r**2)*(a*x - r*y) + 4*r**3*y*(a*x - r*y)*(a**2*z**2 + r**4) - 4*r*y*(a**2 + r**2)*(a*x - r*y)*(a**2*z**2 + r**4) + (a**2 + r**2)*(a**2*z**2 + r**4)*(2*r**2*y**2 + 2*r**2*sqrt(4*a**2*z**2 + (-a**2 + x**2 + y**2 + z**2)**2)))/((a**2 + r**2)**2*(a**2*z**2 + r**4)**2*sqrt(4*a**2*z**2 + (-a**2 + x**2 + y**2 + z**2)**2)), 2*m*r*y*z**2*(a**2*z**2 - 3*r**4)/((a**2*z**2 + r**4)**2*sqrt(4*a**2*z**2 + (-a**2 + x**2 + y**2 + z**2)**2))]])'"
      ]
     },
     "execution_count": 19,
     "metadata": {},
     "output_type": "execute_result"
    }
   ],
   "source": [
    "str(dg__mu__nu_dy)"
   ]
  },
  {
   "cell_type": "code",
   "execution_count": 20,
   "id": "4646f82c-41b7-44cf-ad11-722ecdedf256",
   "metadata": {},
   "outputs": [],
   "source": [
    "dg__mu__nu_dz = sp.simplify(g__mu__nu\\\n",
    "            .subs(r, r_sub)\\\n",
    "            .diff(z).subs(r_sub, r)\\\n",
    "            .subs(r_sub**2 + a**2, r**2 + a**2)\n",
    "           ).subs(-a**2+x**2+y**2+z**2+sp.sqrt(4*a**2*z**2 + (-a**2+x**2+y**2+z**2)**2), 2*r**2)"
   ]
  },
  {
   "cell_type": "code",
   "execution_count": 21,
   "id": "4795ad56-ee5e-4e6a-a5dc-70ad29d4eee7",
   "metadata": {},
   "outputs": [
    {
     "data": {
      "text/plain": [
       "'Matrix([[m*r*z*(-2.0*r**2*(2*a**2*sqrt(4*a**2*z**2 + (-a**2 + x**2 + y**2 + z**2)**2) + 2*r**2*(a**2 + x**2 + y**2 + z**2 + sqrt(4*a**2*z**2 + (-a**2 + x**2 + y**2 + z**2)**2))) + 3.0*(a**2*z**2 + r**4)*(a**2 + x**2 + y**2 + z**2 + sqrt(4*a**2*z**2 + (-a**2 + x**2 + y**2 + z**2)**2)))/((a**2*z**2 + r**4)**2*sqrt(4*a**2*z**2 + (-a**2 + x**2 + y**2 + z**2)**2)), m*z*(-2.0*r**3*(a**2 + r**2)*(a*y + r*x)*(2*a**2*sqrt(4*a**2*z**2 + (-a**2 + x**2 + y**2 + z**2)**2) + 2*r**2*(a**2 + x**2 + y**2 + z**2 + sqrt(4*a**2*z**2 + (-a**2 + x**2 + y**2 + z**2)**2))) - 2.0*r**3*(a*y + r*x)*(a**2*z**2 + r**4)*(a**2 + x**2 + y**2 + z**2 + sqrt(4*a**2*z**2 + (-a**2 + x**2 + y**2 + z**2)**2)) + (a**2 + r**2)*(a**2*z**2 + r**4)*(1.0*r**2*x + 3.0*r*(a*y + r*x))*(a**2 + x**2 + y**2 + z**2 + sqrt(4*a**2*z**2 + (-a**2 + x**2 + y**2 + z**2)**2)))/((a**2 + r**2)**2*(a**2*z**2 + r**4)**2*sqrt(4*a**2*z**2 + (-a**2 + x**2 + y**2 + z**2)**2)), m*z*(2.0*r**3*(a**2 + r**2)*(a*x - r*y)*(2*a**2*sqrt(4*a**2*z**2 + (-a**2 + x**2 + y**2 + z**2)**2) + 2*r**2*(a**2 + x**2 + y**2 + z**2 + sqrt(4*a**2*z**2 + (-a**2 + x**2 + y**2 + z**2)**2))) + 2.0*r**3*(a*x - r*y)*(a**2*z**2 + r**4)*(a**2 + x**2 + y**2 + z**2 + sqrt(4*a**2*z**2 + (-a**2 + x**2 + y**2 + z**2)**2)) + (a**2 + r**2)*(a**2*z**2 + r**4)*(1.0*r**2*y - 3.0*r*(a*x - r*y))*(a**2 + x**2 + y**2 + z**2 + sqrt(4*a**2*z**2 + (-a**2 + x**2 + y**2 + z**2)**2)))/((a**2 + r**2)**2*(a**2*z**2 + r**4)**2*sqrt(4*a**2*z**2 + (-a**2 + x**2 + y**2 + z**2)**2)), m*(-2.0*r**2*z**2*sqrt(4*a**2*z**2 + (-a**2 + x**2 + y**2 + z**2)**2)*(2*a**2*sqrt(4*a**2*z**2 + (-a**2 + x**2 + y**2 + z**2)**2) + 2*r**2*(a**2 + x**2 + y**2 + z**2 + sqrt(4*a**2*z**2 + (-a**2 + x**2 + y**2 + z**2)**2))) + 2.0*r**2*(a**2*z**2 + r**4)*(4*a**2*z**2 + (-a**2 + x**2 + y**2 + z**2)**2) + 2.0*z**2*(a**2*z**2 + r**4)*sqrt(4*a**2*z**2 + (-a**2 + x**2 + y**2 + z**2)**2)*(a**2 + x**2 + y**2 + z**2 + sqrt(4*a**2*z**2 + (-a**2 + x**2 + y**2 + z**2)**2)))/((a**2*z**2 + r**4)**2*(4*a**2*z**2 + (-a**2 + x**2 + y**2 + z**2)**2))], [m*z*(-2.0*r**3*(a**2 + r**2)*(a*y + r*x)*(2*a**2*sqrt(4*a**2*z**2 + (-a**2 + x**2 + y**2 + z**2)**2) + 2*r**2*(a**2 + x**2 + y**2 + z**2 + sqrt(4*a**2*z**2 + (-a**2 + x**2 + y**2 + z**2)**2))) - 2.0*r**3*(a*y + r*x)*(a**2*z**2 + r**4)*(a**2 + x**2 + y**2 + z**2 + sqrt(4*a**2*z**2 + (-a**2 + x**2 + y**2 + z**2)**2)) + (a**2 + r**2)*(a**2*z**2 + r**4)*(1.0*r**2*x + 3.0*r*(a*y + r*x))*(a**2 + x**2 + y**2 + z**2 + sqrt(4*a**2*z**2 + (-a**2 + x**2 + y**2 + z**2)**2)))/((a**2 + r**2)**2*(a**2*z**2 + r**4)**2*sqrt(4*a**2*z**2 + (-a**2 + x**2 + y**2 + z**2)**2)), m*z*(a*y + r*x)*(-2*r**3*(a**2 + r**2)*(a*y + r*x)*(2*a**2*sqrt(4*a**2*z**2 + (-a**2 + x**2 + y**2 + z**2)**2) + 2*r**2*(a**2 + x**2 + y**2 + z**2 + sqrt(4*a**2*z**2 + (-a**2 + x**2 + y**2 + z**2)**2))) - 4*r**3*(a*y + r*x)*(a**2*z**2 + r**4)*(a**2 + x**2 + y**2 + z**2 + sqrt(4*a**2*z**2 + (-a**2 + x**2 + y**2 + z**2)**2)) + (a**2 + r**2)*(a**2*z**2 + r**4)*(2*r**2*x + 3*r*(a*y + r*x))*(a**2 + x**2 + y**2 + z**2 + sqrt(4*a**2*z**2 + (-a**2 + x**2 + y**2 + z**2)**2)))/((a**2 + r**2)**3*(a**2*z**2 + r**4)**2*sqrt(4*a**2*z**2 + (-a**2 + x**2 + y**2 + z**2)**2)), m*z*(4*r**3*(a**2 + r**2)*(a*x - r*y)*(a*y + r*x)*(2*a**2*sqrt(4*a**2*z**2 + (-a**2 + x**2 + y**2 + z**2)**2) + 2*r**2*(a**2 + x**2 + y**2 + z**2 + sqrt(4*a**2*z**2 + (-a**2 + x**2 + y**2 + z**2)**2))) + 8*r**3*(a*x - r*y)*(a*y + r*x)*(a**2*z**2 + r**4)*(a**2 + x**2 + y**2 + z**2 + sqrt(4*a**2*z**2 + (-a**2 + x**2 + y**2 + z**2)**2)) + (a**2 + r**2)*(a**2*z**2 + r**4)*(-2*r**2*x*(a*x - r*y) + 2*r**2*y*(a*y + r*x) - 6*r*(a*x - r*y)*(a*y + r*x))*(a**2 + x**2 + y**2 + z**2 + sqrt(4*a**2*z**2 + (-a**2 + x**2 + y**2 + z**2)**2)))/(2*(a**2 + r**2)**3*(a**2*z**2 + r**4)**2*sqrt(4*a**2*z**2 + (-a**2 + x**2 + y**2 + z**2)**2)), m*(-2*r**2*z**2*(a**2 + r**2)*(a*y + r*x)*(4*a**2*z**2 + (-a**2 + x**2 + y**2 + z**2)**2)*(2*a**2*sqrt(4*a**2*z**2 + (-a**2 + x**2 + y**2 + z**2)**2) + 2*r**2*(a**2 + x**2 + y**2 + z**2 + sqrt(4*a**2*z**2 + (-a**2 + x**2 + y**2 + z**2)**2))) - 2*r**2*z**2*(a*y + r*x)*(a**2*z**2 + r**4)*(4*a**2*z**2 + (-a**2 + x**2 + y**2 + z**2)**2)*(a**2 + x**2 + y**2 + z**2 + sqrt(4*a**2*z**2 + (-a**2 + x**2 + y**2 + z**2)**2)) + 2*r**2*(a**2 + r**2)*(a*y + r*x)*(a**2*z**2 + r**4)*(4*a**2*z**2 + (-a**2 + x**2 + y**2 + z**2)**2)**(3/2) + z**2*(a**2 + r**2)*(2*a*y + 3*r*x)*(a**2*z**2 + r**4)*(4*a**2*z**2 + (-a**2 + x**2 + y**2 + z**2)**2)*(a**2 + x**2 + y**2 + z**2 + sqrt(4*a**2*z**2 + (-a**2 + x**2 + y**2 + z**2)**2)))/((a**2 + r**2)**2*(a**2*z**2 + r**4)**2*(4*a**2*z**2 + (-a**2 + x**2 + y**2 + z**2)**2)**(3/2))], [m*z*(2.0*r**3*(a**2 + r**2)*(a*x - r*y)*(2*a**2*sqrt(4*a**2*z**2 + (-a**2 + x**2 + y**2 + z**2)**2) + 2*r**2*(a**2 + x**2 + y**2 + z**2 + sqrt(4*a**2*z**2 + (-a**2 + x**2 + y**2 + z**2)**2))) + 2.0*r**3*(a*x - r*y)*(a**2*z**2 + r**4)*(a**2 + x**2 + y**2 + z**2 + sqrt(4*a**2*z**2 + (-a**2 + x**2 + y**2 + z**2)**2)) + (a**2 + r**2)*(a**2*z**2 + r**4)*(1.0*r**2*y - 3.0*r*(a*x - r*y))*(a**2 + x**2 + y**2 + z**2 + sqrt(4*a**2*z**2 + (-a**2 + x**2 + y**2 + z**2)**2)))/((a**2 + r**2)**2*(a**2*z**2 + r**4)**2*sqrt(4*a**2*z**2 + (-a**2 + x**2 + y**2 + z**2)**2)), m*z*(4*r**3*(a**2 + r**2)*(a*x - r*y)*(a*y + r*x)*(2*a**2*sqrt(4*a**2*z**2 + (-a**2 + x**2 + y**2 + z**2)**2) + 2*r**2*(a**2 + x**2 + y**2 + z**2 + sqrt(4*a**2*z**2 + (-a**2 + x**2 + y**2 + z**2)**2))) + 8*r**3*(a*x - r*y)*(a*y + r*x)*(a**2*z**2 + r**4)*(a**2 + x**2 + y**2 + z**2 + sqrt(4*a**2*z**2 + (-a**2 + x**2 + y**2 + z**2)**2)) + (a**2 + r**2)*(a**2*z**2 + r**4)*(-2*r**2*x*(a*x - r*y) + 2*r**2*y*(a*y + r*x) - 6*r*(a*x - r*y)*(a*y + r*x))*(a**2 + x**2 + y**2 + z**2 + sqrt(4*a**2*z**2 + (-a**2 + x**2 + y**2 + z**2)**2)))/(2*(a**2 + r**2)**3*(a**2*z**2 + r**4)**2*sqrt(4*a**2*z**2 + (-a**2 + x**2 + y**2 + z**2)**2)), m*z*(a*x - r*y)*(-2*r**3*(a**2 + r**2)*(a*x - r*y)*(2*a**2*sqrt(4*a**2*z**2 + (-a**2 + x**2 + y**2 + z**2)**2) + 2*r**2*(a**2 + x**2 + y**2 + z**2 + sqrt(4*a**2*z**2 + (-a**2 + x**2 + y**2 + z**2)**2))) - 4*r**3*(a*x - r*y)*(a**2*z**2 + r**4)*(a**2 + x**2 + y**2 + z**2 + sqrt(4*a**2*z**2 + (-a**2 + x**2 + y**2 + z**2)**2)) + (a**2 + r**2)*(a**2*z**2 + r**4)*(-2*r**2*y + 3*r*(a*x - r*y))*(a**2 + x**2 + y**2 + z**2 + sqrt(4*a**2*z**2 + (-a**2 + x**2 + y**2 + z**2)**2)))/((a**2 + r**2)**3*(a**2*z**2 + r**4)**2*sqrt(4*a**2*z**2 + (-a**2 + x**2 + y**2 + z**2)**2)), m*(2*r**2*z**2*(a**2 + r**2)*(a*x - r*y)*(4*a**2*z**2 + (-a**2 + x**2 + y**2 + z**2)**2)*(2*a**2*sqrt(4*a**2*z**2 + (-a**2 + x**2 + y**2 + z**2)**2) + 2*r**2*(a**2 + x**2 + y**2 + z**2 + sqrt(4*a**2*z**2 + (-a**2 + x**2 + y**2 + z**2)**2))) + 2*r**2*z**2*(a*x - r*y)*(a**2*z**2 + r**4)*(4*a**2*z**2 + (-a**2 + x**2 + y**2 + z**2)**2)*(a**2 + x**2 + y**2 + z**2 + sqrt(4*a**2*z**2 + (-a**2 + x**2 + y**2 + z**2)**2)) - 2*r**2*(a**2 + r**2)*(a*x - r*y)*(a**2*z**2 + r**4)*(4*a**2*z**2 + (-a**2 + x**2 + y**2 + z**2)**2)**(3/2) + z**2*(a**2 + r**2)*(-2*a*x + 3*r*y)*(a**2*z**2 + r**4)*(4*a**2*z**2 + (-a**2 + x**2 + y**2 + z**2)**2)*(a**2 + x**2 + y**2 + z**2 + sqrt(4*a**2*z**2 + (-a**2 + x**2 + y**2 + z**2)**2)))/((a**2 + r**2)**2*(a**2*z**2 + r**4)**2*(4*a**2*z**2 + (-a**2 + x**2 + y**2 + z**2)**2)**(3/2))], [m*(-2.0*r**2*z**2*sqrt(4*a**2*z**2 + (-a**2 + x**2 + y**2 + z**2)**2)*(2*a**2*sqrt(4*a**2*z**2 + (-a**2 + x**2 + y**2 + z**2)**2) + 2*r**2*(a**2 + x**2 + y**2 + z**2 + sqrt(4*a**2*z**2 + (-a**2 + x**2 + y**2 + z**2)**2))) + 2.0*r**2*(a**2*z**2 + r**4)*(4*a**2*z**2 + (-a**2 + x**2 + y**2 + z**2)**2) + 2.0*z**2*(a**2*z**2 + r**4)*sqrt(4*a**2*z**2 + (-a**2 + x**2 + y**2 + z**2)**2)*(a**2 + x**2 + y**2 + z**2 + sqrt(4*a**2*z**2 + (-a**2 + x**2 + y**2 + z**2)**2)))/((a**2*z**2 + r**4)**2*(4*a**2*z**2 + (-a**2 + x**2 + y**2 + z**2)**2)), m*(-2*r**2*z**2*(a**2 + r**2)*(a*y + r*x)*(4*a**2*z**2 + (-a**2 + x**2 + y**2 + z**2)**2)*(2*a**2*sqrt(4*a**2*z**2 + (-a**2 + x**2 + y**2 + z**2)**2) + 2*r**2*(a**2 + x**2 + y**2 + z**2 + sqrt(4*a**2*z**2 + (-a**2 + x**2 + y**2 + z**2)**2))) - 2*r**2*z**2*(a*y + r*x)*(a**2*z**2 + r**4)*(4*a**2*z**2 + (-a**2 + x**2 + y**2 + z**2)**2)*(a**2 + x**2 + y**2 + z**2 + sqrt(4*a**2*z**2 + (-a**2 + x**2 + y**2 + z**2)**2)) + 2*r**2*(a**2 + r**2)*(a*y + r*x)*(a**2*z**2 + r**4)*(4*a**2*z**2 + (-a**2 + x**2 + y**2 + z**2)**2)**(3/2) + z**2*(a**2 + r**2)*(2*a*y + 3*r*x)*(a**2*z**2 + r**4)*(4*a**2*z**2 + (-a**2 + x**2 + y**2 + z**2)**2)*(a**2 + x**2 + y**2 + z**2 + sqrt(4*a**2*z**2 + (-a**2 + x**2 + y**2 + z**2)**2)))/((a**2 + r**2)**2*(a**2*z**2 + r**4)**2*(4*a**2*z**2 + (-a**2 + x**2 + y**2 + z**2)**2)**(3/2)), m*(2*r**2*z**2*(a**2 + r**2)*(a*x - r*y)*(4*a**2*z**2 + (-a**2 + x**2 + y**2 + z**2)**2)*(2*a**2*sqrt(4*a**2*z**2 + (-a**2 + x**2 + y**2 + z**2)**2) + 2*r**2*(a**2 + x**2 + y**2 + z**2 + sqrt(4*a**2*z**2 + (-a**2 + x**2 + y**2 + z**2)**2))) + 2*r**2*z**2*(a*x - r*y)*(a**2*z**2 + r**4)*(4*a**2*z**2 + (-a**2 + x**2 + y**2 + z**2)**2)*(a**2 + x**2 + y**2 + z**2 + sqrt(4*a**2*z**2 + (-a**2 + x**2 + y**2 + z**2)**2)) - 2*r**2*(a**2 + r**2)*(a*x - r*y)*(a**2*z**2 + r**4)*(4*a**2*z**2 + (-a**2 + x**2 + y**2 + z**2)**2)**(3/2) + z**2*(a**2 + r**2)*(-2*a*x + 3*r*y)*(a**2*z**2 + r**4)*(4*a**2*z**2 + (-a**2 + x**2 + y**2 + z**2)**2)*(a**2 + x**2 + y**2 + z**2 + sqrt(4*a**2*z**2 + (-a**2 + x**2 + y**2 + z**2)**2)))/((a**2 + r**2)**2*(a**2*z**2 + r**4)**2*(4*a**2*z**2 + (-a**2 + x**2 + y**2 + z**2)**2)**(3/2)), m*z*(-2*r**2*z**2*sqrt(4*a**2*z**2 + (-a**2 + x**2 + y**2 + z**2)**2)*(2*a**2*sqrt(4*a**2*z**2 + (-a**2 + x**2 + y**2 + z**2)**2) + 2*r**2*(a**2 + x**2 + y**2 + z**2 + sqrt(4*a**2*z**2 + (-a**2 + x**2 + y**2 + z**2)**2))) + 4*r**2*(a**2*z**2 + r**4)*(4*a**2*z**2 + (-a**2 + x**2 + y**2 + z**2)**2) + z**2*(a**2*z**2 + r**4)*sqrt(4*a**2*z**2 + (-a**2 + x**2 + y**2 + z**2)**2)*(a**2 + x**2 + y**2 + z**2 + sqrt(4*a**2*z**2 + (-a**2 + x**2 + y**2 + z**2)**2)))/(r*(a**2*z**2 + r**4)**2*(4*a**2*z**2 + (-a**2 + x**2 + y**2 + z**2)**2))]])'"
      ]
     },
     "execution_count": 21,
     "metadata": {},
     "output_type": "execute_result"
    }
   ],
   "source": [
    "str(dg__mu__nu_dz)"
   ]
  },
  {
   "cell_type": "markdown",
   "id": "9971d5b3-1227-4f11-ae31-8d57257252e2",
   "metadata": {},
   "source": [
    "## Now we should be able to load the strings and lambdify the expression"
   ]
  },
  {
   "cell_type": "code",
   "execution_count": 22,
   "id": "c5ebeb18-5ae8-4e8d-8507-55cc4e906659",
   "metadata": {},
   "outputs": [
    {
     "data": {
      "text/plain": [
       "array([[-0.21172399, -0.3557325 ,  0.05399866, -0.24429692],\n",
       "       [-0.3557325 , -0.49974102, -0.09000985, -0.31630117],\n",
       "       [ 0.05399866, -0.09000985,  0.31972131, -0.11143559],\n",
       "       [-0.24429692, -0.31630117, -0.11143559, -0.19136592]])"
      ]
     },
     "execution_count": 22,
     "metadata": {},
     "output_type": "execute_result"
    }
   ],
   "source": [
    "from sympy.parsing.sympy_parser import parse_expr\n",
    "sp.lambdify([t, x, y, z, r, a, m], parse_expr(str(dg__mu__nu_dy)), 'numpy')(0,1,3,1,2,1,1)"
   ]
  },
  {
   "cell_type": "code",
   "execution_count": null,
   "id": "40adee71-6cca-44ed-b56e-2dcc5873a5b5",
   "metadata": {},
   "outputs": [],
   "source": []
  }
 ],
 "metadata": {
  "kernelspec": {
   "display_name": "ve",
   "language": "python",
   "name": "ve"
  },
  "language_info": {
   "codemirror_mode": {
    "name": "ipython",
    "version": 3
   },
   "file_extension": ".py",
   "mimetype": "text/x-python",
   "name": "python",
   "nbconvert_exporter": "python",
   "pygments_lexer": "ipython3",
   "version": "3.9.13"
  }
 },
 "nbformat": 4,
 "nbformat_minor": 5
}
