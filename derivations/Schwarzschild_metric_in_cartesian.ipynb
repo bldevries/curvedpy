{
 "cells": [
  {
   "cell_type": "code",
   "execution_count": 40,
   "id": "88bf44d2-0ba0-4c3a-96a8-a2a286c15719",
   "metadata": {},
   "outputs": [],
   "source": [
    "import sympy as sp"
   ]
  },
  {
   "cell_type": "markdown",
   "id": "b99a4d15-9ca2-4696-a658-4608b7d9da5d",
   "metadata": {},
   "source": [
    "# Rewriting the Schwarzschil metric from spherical to cartesian coordinates"
   ]
  },
  {
   "cell_type": "markdown",
   "id": "49ce9228-57ef-4800-8813-9f93ec23b86e",
   "metadata": {},
   "source": [
    "We want to find the Schwarzschild metric, its inverse and the partial derivatives thereof. In spherical coordinates we have:"
   ]
  },
  {
   "cell_type": "markdown",
   "id": "0817c7c3-62e5-4464-a7fb-01431fc3f37a",
   "metadata": {},
   "source": [
    "$$\n",
    "g_{\\mu \\nu} =\n",
    "\\begin{bmatrix}\n",
    "-(1-\\frac{r_s}{r}) & 0 & 0 & 0\\\\\n",
    "0 & (1-\\frac{r_s}{r})^{-1} & 0 & 0 \\\\\n",
    "0 & 0 & r^2 & 0\\\\\n",
    "0 & 0 & 0 & r^2 \\sin(\\theta)^2\\\\\n",
    "\\end{bmatrix}\n",
    "$$"
   ]
  },
  {
   "cell_type": "markdown",
   "id": "849ca526-9382-4ee5-8c97-261a00cc2cd3",
   "metadata": {},
   "source": [
    "## Solution Yukterez"
   ]
  },
  {
   "cell_type": "markdown",
   "id": "c6bdf877-a7fe-4125-9942-ee1c525f8d59",
   "metadata": {},
   "source": [
    "Here is a solution from Yukterez or Simon Tyran"
   ]
  },
  {
   "cell_type": "markdown",
   "id": "0ff12584-4694-4fe5-bf55-13f9dc05e194",
   "metadata": {},
   "source": [
    "https://f.yukterez.net/einstein.equations/files/8.html#transformation"
   ]
  },
  {
   "cell_type": "code",
   "execution_count": 41,
   "id": "94dc5454-e134-43f0-a4fa-02f05ce73961",
   "metadata": {},
   "outputs": [],
   "source": [
    "t, x, y, z, = sp.symbols('t x y z', real=True)\n",
    "r, r_s  = sp.symbols('r r_s', positive=True, real=True)\n",
    "alp = sp.symbols('\\\\alpha')\n",
    "        \n",
    "r_sub = (x**2 + y**2 + z**2)**sp.Rational(1,2)\n",
    "alp_sub = r_s/(r**2*(-r_s+r))"
   ]
  },
  {
   "cell_type": "code",
   "execution_count": 42,
   "id": "69c1176a-fb09-4e8a-b24c-60075ad0135c",
   "metadata": {},
   "outputs": [
    {
     "data": {
      "text/latex": [
       "$\\displaystyle \\sqrt{x^{2} + y^{2} + z^{2}}$"
      ],
      "text/plain": [
       "sqrt(x**2 + y**2 + z**2)"
      ]
     },
     "execution_count": 42,
     "metadata": {},
     "output_type": "execute_result"
    }
   ],
   "source": [
    "r_sub"
   ]
  },
  {
   "cell_type": "code",
   "execution_count": 43,
   "id": "4a5dadc6-bded-4fa1-bb04-e4bbe8672bb9",
   "metadata": {},
   "outputs": [
    {
     "data": {
      "text/latex": [
       "$\\displaystyle \\frac{r_{s}}{r^{2} \\left(r - r_{s}\\right)}$"
      ],
      "text/plain": [
       "r_s/(r**2*(r - r_s))"
      ]
     },
     "execution_count": 43,
     "metadata": {},
     "output_type": "execute_result"
    }
   ],
   "source": [
    "alp_sub"
   ]
  },
  {
   "cell_type": "code",
   "execution_count": 44,
   "id": "1dae75d1-6dd0-4aa2-82c3-d0ef662493f6",
   "metadata": {},
   "outputs": [],
   "source": [
    "\n",
    "flip_sign_convention = -1\n",
    "\n",
    "g00 = -1*( 1-r_s/r )\n",
    "g01, g02, g03 = 0,0,0\n",
    "g10 = 0\n",
    "g11 = -1*( -1-x**2 * alp )\n",
    "g12 = flip_sign_convention*( -x*y*alp )\n",
    "g13 = flip_sign_convention*( -x*z*alp )\n",
    "g20 = 0\n",
    "g21 = flip_sign_convention*( -x*y*alp )\n",
    "g22 = -1*( -1-y**2*alp )\n",
    "g23 = flip_sign_convention*( -y*z*alp )\n",
    "g30 = 0\n",
    "g31 = flip_sign_convention*( -x*z*alp )\n",
    "g32 = flip_sign_convention*( -y*z*alp )\n",
    "g33 = -1*( -1 - z**2*alp )\n",
    "\n",
    "g__mu__nu_cart_yuk = sp.Matrix([[g00,g01,g02,g03], [g10,g11,g12,g13], [g20,g21,g22,g23], [g30,g31,g32,g33]])\n",
    "#g__mu__nu_cart_pre_sub = g__mu__nu_cart\n",
    "\n",
    "g__mu__nu_cart_yuk = g__mu__nu_cart_yuk.subs(alp, alp_sub).subs(r, r_sub)\n"
   ]
  },
  {
   "cell_type": "code",
   "execution_count": 45,
   "id": "1365aa22-4f92-4981-9138-ee0a3bb77d43",
   "metadata": {},
   "outputs": [
    {
     "data": {
      "text/latex": [
       "$\\displaystyle \\left[\\begin{matrix}\\frac{r_{s}}{\\sqrt{x^{2} + y^{2} + z^{2}}} - 1 & 0 & 0 & 0\\\\0 & \\frac{r_{s} x^{2}}{\\left(- r_{s} + \\sqrt{x^{2} + y^{2} + z^{2}}\\right) \\left(x^{2} + y^{2} + z^{2}\\right)} + 1 & \\frac{r_{s} x y}{\\left(- r_{s} + \\sqrt{x^{2} + y^{2} + z^{2}}\\right) \\left(x^{2} + y^{2} + z^{2}\\right)} & \\frac{r_{s} x z}{\\left(- r_{s} + \\sqrt{x^{2} + y^{2} + z^{2}}\\right) \\left(x^{2} + y^{2} + z^{2}\\right)}\\\\0 & \\frac{r_{s} x y}{\\left(- r_{s} + \\sqrt{x^{2} + y^{2} + z^{2}}\\right) \\left(x^{2} + y^{2} + z^{2}\\right)} & \\frac{r_{s} y^{2}}{\\left(- r_{s} + \\sqrt{x^{2} + y^{2} + z^{2}}\\right) \\left(x^{2} + y^{2} + z^{2}\\right)} + 1 & \\frac{r_{s} y z}{\\left(- r_{s} + \\sqrt{x^{2} + y^{2} + z^{2}}\\right) \\left(x^{2} + y^{2} + z^{2}\\right)}\\\\0 & \\frac{r_{s} x z}{\\left(- r_{s} + \\sqrt{x^{2} + y^{2} + z^{2}}\\right) \\left(x^{2} + y^{2} + z^{2}\\right)} & \\frac{r_{s} y z}{\\left(- r_{s} + \\sqrt{x^{2} + y^{2} + z^{2}}\\right) \\left(x^{2} + y^{2} + z^{2}\\right)} & \\frac{r_{s} z^{2}}{\\left(- r_{s} + \\sqrt{x^{2} + y^{2} + z^{2}}\\right) \\left(x^{2} + y^{2} + z^{2}\\right)} + 1\\end{matrix}\\right]$"
      ],
      "text/plain": [
       "Matrix([\n",
       "[r_s/sqrt(x**2 + y**2 + z**2) - 1,                                                                     0,                                                                     0,                                                                     0],\n",
       "[                               0, r_s*x**2/((-r_s + sqrt(x**2 + y**2 + z**2))*(x**2 + y**2 + z**2)) + 1,      r_s*x*y/((-r_s + sqrt(x**2 + y**2 + z**2))*(x**2 + y**2 + z**2)),      r_s*x*z/((-r_s + sqrt(x**2 + y**2 + z**2))*(x**2 + y**2 + z**2))],\n",
       "[                               0,      r_s*x*y/((-r_s + sqrt(x**2 + y**2 + z**2))*(x**2 + y**2 + z**2)), r_s*y**2/((-r_s + sqrt(x**2 + y**2 + z**2))*(x**2 + y**2 + z**2)) + 1,      r_s*y*z/((-r_s + sqrt(x**2 + y**2 + z**2))*(x**2 + y**2 + z**2))],\n",
       "[                               0,      r_s*x*z/((-r_s + sqrt(x**2 + y**2 + z**2))*(x**2 + y**2 + z**2)),      r_s*y*z/((-r_s + sqrt(x**2 + y**2 + z**2))*(x**2 + y**2 + z**2)), r_s*z**2/((-r_s + sqrt(x**2 + y**2 + z**2))*(x**2 + y**2 + z**2)) + 1]])"
      ]
     },
     "execution_count": 45,
     "metadata": {},
     "output_type": "execute_result"
    }
   ],
   "source": [
    "g__mu__nu_cart_yuk"
   ]
  },
  {
   "cell_type": "code",
   "execution_count": 46,
   "id": "a829cd9c-9dd3-427f-b9f2-65d8d8cb8a97",
   "metadata": {},
   "outputs": [
    {
     "data": {
      "text/latex": [
       "$\\displaystyle \\left[\\begin{matrix}- \\frac{1}{- \\frac{r_{s}}{\\sqrt{x^{2} + y^{2} + z^{2}}} + 1} & 0 & 0 & 0\\\\0 & - \\frac{r_{s} x^{2}}{\\left(x^{2} + y^{2} + z^{2}\\right)^{\\frac{3}{2}}} + 1 & - \\frac{r_{s} x y}{\\left(x^{2} + y^{2} + z^{2}\\right)^{\\frac{3}{2}}} & - \\frac{r_{s} x z}{\\left(x^{2} + y^{2} + z^{2}\\right)^{\\frac{3}{2}}}\\\\0 & - \\frac{r_{s} x y}{\\left(x^{2} + y^{2} + z^{2}\\right)^{\\frac{3}{2}}} & - \\frac{r_{s} y^{2}}{\\left(x^{2} + y^{2} + z^{2}\\right)^{\\frac{3}{2}}} + 1 & - \\frac{r_{s} y z}{\\left(x^{2} + y^{2} + z^{2}\\right)^{\\frac{3}{2}}}\\\\0 & - \\frac{r_{s} x z}{\\left(x^{2} + y^{2} + z^{2}\\right)^{\\frac{3}{2}}} & - \\frac{r_{s} y z}{\\left(x^{2} + y^{2} + z^{2}\\right)^{\\frac{3}{2}}} & - \\frac{r_{s} z^{2}}{\\left(x^{2} + y^{2} + z^{2}\\right)^{\\frac{3}{2}}} + 1\\end{matrix}\\right]$"
      ],
      "text/plain": [
       "Matrix([\n",
       "[-1/(-r_s/sqrt(x**2 + y**2 + z**2) + 1),                                         0,                                         0,                                         0],\n",
       "[                                     0, -r_s*x**2/(x**2 + y**2 + z**2)**(3/2) + 1,      -r_s*x*y/(x**2 + y**2 + z**2)**(3/2),      -r_s*x*z/(x**2 + y**2 + z**2)**(3/2)],\n",
       "[                                     0,      -r_s*x*y/(x**2 + y**2 + z**2)**(3/2), -r_s*y**2/(x**2 + y**2 + z**2)**(3/2) + 1,      -r_s*y*z/(x**2 + y**2 + z**2)**(3/2)],\n",
       "[                                     0,      -r_s*x*z/(x**2 + y**2 + z**2)**(3/2),      -r_s*y*z/(x**2 + y**2 + z**2)**(3/2), -r_s*z**2/(x**2 + y**2 + z**2)**(3/2) + 1]])"
      ]
     },
     "execution_count": 46,
     "metadata": {},
     "output_type": "execute_result"
    }
   ],
   "source": [
    "g_00 = -1*( 1/(1-r_s/r) )\n",
    "g_01, g_02, g_03 = 0,0,0\n",
    "g_10 = 0\n",
    "g_11 = -1*(-1+r_s  * x**2/r**3)\n",
    "g_12 = flip_sign_convention*r_s * x * y/r**3\n",
    "g_13 = flip_sign_convention*r_s * x * z/r**3\n",
    "g_20 = 0\n",
    "g_21 = flip_sign_convention* r_s * x * y/r**3\n",
    "g_22 = -1*( -1 + r_s * y**2/r**3 )\n",
    "g_23 = flip_sign_convention*( r_s * y * z/r**3 )\n",
    "g_30 = 0\n",
    "g_31 = flip_sign_convention* ( r_s * x * z/r**3 )\n",
    "g_32 = flip_sign_convention*( r_s * y * z/r**3 )\n",
    "g_33 = -1*( -1 + r_s * z**2/r**3 )\n",
    "\n",
    "g_mu_nu_cart_yuk = sp.Matrix([[g_00,g_01,g_02,g_03], [g_10,g_11,g_12,g_13], [g_20,g_21,g_22,g_23], [g_30,g_31,g_32,g_33]]).subs(r, r_sub)\n",
    "g_mu_nu_cart_yuk = g_mu_nu_cart_yuk.subs(alp, alp_sub).subs(r, r_sub)\n",
    "\n",
    "g_mu_nu_cart_yuk"
   ]
  },
  {
   "cell_type": "code",
   "execution_count": 47,
   "id": "751676e0-feac-403d-b2ec-916580f75908",
   "metadata": {},
   "outputs": [],
   "source": [
    "\n",
    "        # self.g__mu__nu_cart_diff = [self.g__mu__nu_cart.diff(self.t), self.g__mu__nu_cart.diff(self.x), \\\n",
    "        #                              self.g__mu__nu_cart.diff(self.y), self.g__mu__nu_cart.diff(self.z)]\n",
    "\n",
    "        # # We lambdify these to get numpy arrays\n",
    "        # self.g__mu__nu_cart_lamb = sp.lambdify([self.t, self.x, self.y, self.z, self.r_s], self.g__mu__nu_cart)\n",
    "        # self.g_mu_nu_cart_lamb = sp.lambdify([self.t, self.x, self.y, self.z, self.r_s], self.g_mu_nu_cart)\n",
    "        # self.g__mu__nu_cart_diff_lamb = sp.lambdify([self.t, self.x, self.y, self.z, self.r_s], self.g__mu__nu_cart_diff)\n",
    "\n",
    "        # # Norm of k\n",
    "        # # the norm of k determines if you have a massive particle (-1), a mass-less photon (0) \n",
    "        # # or a space-like curve (1)\n",
    "        # self.k_t, self.k_x, self.k_y, self.k_z = sp.symbols('k_t k_x k_y k_z', real=True)\n",
    "        # self.k_mu_cart = sp.Matrix([self.k_t, self.k_x, self.k_y, self.k_z])\n",
    "        # self.norm_k = (self.k_mu_cart.T*self.g__mu__nu_cart*self.k_mu_cart)[0]\n",
    "\n",
    "        # self.norm_k_lamb = sp.lambdify([self.k_t, self.k_x, self.k_y, self.k_z, self.x, self.y, self.z, \\\n",
    "        #                                        self.r_s], self.norm_k, \"numpy\")"
   ]
  },
  {
   "cell_type": "markdown",
   "id": "3c4b3a69-c433-49b9-84f1-0364aedaf2bc",
   "metadata": {},
   "source": [
    "## Lets find this solution our selves"
   ]
  },
  {
   "cell_type": "markdown",
   "id": "5e8c3e1a-a6d9-47ab-8151-99e4a809d4c9",
   "metadata": {},
   "source": [
    "We write the metric and its inverse (indices both raised) in sperical coordinates"
   ]
  },
  {
   "cell_type": "code",
   "execution_count": 62,
   "id": "b7e0f42f-5b63-40c5-8eb9-da58def413b1",
   "metadata": {},
   "outputs": [
    {
     "data": {
      "text/latex": [
       "$\\displaystyle \\left[\\begin{matrix}-1 + \\frac{r_{s}}{r} & 0 & 0 & 0\\\\0 & \\frac{1}{1 - \\frac{r_{s}}{r}} & 0 & 0\\\\0 & 0 & r^{2} & 0\\\\0 & 0 & 0 & r^{2} \\sin^{2}{\\left(\\theta \\right)}\\end{matrix}\\right]$"
      ],
      "text/plain": [
       "Matrix([\n",
       "[-1 + r_s/r,             0,    0,                   0],\n",
       "[         0, 1/(1 - r_s/r),    0,                   0],\n",
       "[         0,             0, r**2,                   0],\n",
       "[         0,             0,    0, r**2*sin(\\theta)**2]])"
      ]
     },
     "execution_count": 62,
     "metadata": {},
     "output_type": "execute_result"
    }
   ],
   "source": [
    "t, r, th, ph, r_s = sp.symbols(\"t r \\\\theta \\\\phi r_s\", real=True, positive=True)\n",
    "x, y, z = sp.symbols('x, y, z', real=True)\n",
    "\n",
    "g__mu__nu_sph = sp.Matrix([\\\n",
    "    [-1*(1-r_s/r), 0, 0, 0],\\\n",
    "    [0, 1/(1-r_s/r), 0, 0],\\\n",
    "    [0, 0, r**2, 0],\\\n",
    "    [0, 0, 0, r**2 * sp.sin(th)**2]\\\n",
    "    ])\n",
    "\n",
    "g__mu__nu_sph"
   ]
  },
  {
   "cell_type": "code",
   "execution_count": 63,
   "id": "ce51f31f-6a19-4a96-96e7-e9fe32ff9e08",
   "metadata": {},
   "outputs": [
    {
     "data": {
      "text/latex": [
       "$\\displaystyle \\left[\\begin{matrix}- \\frac{r}{r - r_{s}} & 0 & 0 & 0\\\\0 & \\frac{r - r_{s}}{r} & 0 & 0\\\\0 & 0 & \\frac{1}{r^{2}} & 0\\\\0 & 0 & 0 & \\frac{1}{r^{2} \\sin^{2}{\\left(\\theta \\right)}}\\end{matrix}\\right]$"
      ],
      "text/plain": [
       "Matrix([\n",
       "[-r/(r - r_s),           0,       0,                       0],\n",
       "[           0, (r - r_s)/r,       0,                       0],\n",
       "[           0,           0, r**(-2),                       0],\n",
       "[           0,           0,       0, 1/(r**2*sin(\\theta)**2)]])"
      ]
     },
     "execution_count": 63,
     "metadata": {},
     "output_type": "execute_result"
    }
   ],
   "source": [
    "g_mu_nu_sph = g__mu__nu_sph.inv()\n",
    "g_mu_nu_sph"
   ]
  },
  {
   "cell_type": "markdown",
   "id": "07e9a68a-a5ee-4fb6-9203-ffbbcd0d5703",
   "metadata": {},
   "source": [
    "### First we substitute the spherical with the cartesian coordinates"
   ]
  },
  {
   "cell_type": "code",
   "execution_count": 64,
   "id": "8d89013c-e9c5-464f-9cb5-3e41e7e1de2b",
   "metadata": {},
   "outputs": [
    {
     "data": {
      "text/latex": [
       "$\\displaystyle \\left[\\begin{matrix}\\frac{r_{s}}{\\left(x^{2} + y^{2} + z^{2}\\right)^{0.5}} - 1 & 0 & 0 & 0\\\\0 & \\frac{\\left(x^{2} + y^{2} + z^{2}\\right)^{0.5}}{- r_{s} + \\left(x^{2} + y^{2} + z^{2}\\right)^{0.5}} & 0 & 0\\\\0 & 0 & \\left(x^{2} + y^{2} + z^{2}\\right)^{1.0} & 0\\\\0 & 0 & 0 & - z^{2} + \\left(x^{2} + y^{2} + z^{2}\\right)^{1.0}\\end{matrix}\\right]$"
      ],
      "text/plain": [
       "Matrix([\n",
       "[r_s/(x**2 + y**2 + z**2)**0.5 - 1,                                                            0,                         0,                                 0],\n",
       "[                                0, (x**2 + y**2 + z**2)**0.5/(-r_s + (x**2 + y**2 + z**2)**0.5),                         0,                                 0],\n",
       "[                                0,                                                            0, (x**2 + y**2 + z**2)**1.0,                                 0],\n",
       "[                                0,                                                            0,                         0, -z**2 + (x**2 + y**2 + z**2)**1.0]])"
      ]
     },
     "execution_count": 64,
     "metadata": {},
     "output_type": "execute_result"
    }
   ],
   "source": [
    "to_cart_sub_list = [(th, sp.acos(z/(x**2+y**2+z**2)**0.5)), \\\n",
    "                         (r,  (x**2+y**2+z**2)**0.5),\\\n",
    "                         (ph, sp.atan2(y, x))]\n",
    "\n",
    "g__mu__nu_cart = g__mu__nu_sph.subs(to_cart_sub_list)\n",
    "g_mu_nu_cart = g_mu_nu_sph.subs(to_cart_sub_list)\n",
    "g__mu__nu_cart.simplify()\n",
    "g_mu_nu_cart.simplify()\n",
    "g__mu__nu_cart"
   ]
  },
  {
   "cell_type": "code",
   "execution_count": 65,
   "id": "f6bda955-d2ff-4cd7-9c5f-4fcdddd02448",
   "metadata": {},
   "outputs": [
    {
     "data": {
      "text/latex": [
       "$\\displaystyle \\left[\\begin{matrix}\\frac{\\left(x^{2} + y^{2} + z^{2}\\right)^{0.5}}{r_{s} - \\left(x^{2} + y^{2} + z^{2}\\right)^{0.5}} & 0 & 0 & 0\\\\0 & - \\frac{r_{s}}{\\left(x^{2} + y^{2} + z^{2}\\right)^{0.5}} + 1 & 0 & 0\\\\0 & 0 & \\left(x^{2} + y^{2} + z^{2}\\right)^{-1.0} & 0\\\\0 & 0 & 0 & - \\frac{1}{z^{2} - \\left(x^{2} + y^{2} + z^{2}\\right)^{1.0}}\\end{matrix}\\right]$"
      ],
      "text/plain": [
       "Matrix([\n",
       "[(x**2 + y**2 + z**2)**0.5/(r_s - (x**2 + y**2 + z**2)**0.5),                                  0,                            0,                                     0],\n",
       "[                                                          0, -r_s/(x**2 + y**2 + z**2)**0.5 + 1,                            0,                                     0],\n",
       "[                                                          0,                                  0, (x**2 + y**2 + z**2)**(-1.0),                                     0],\n",
       "[                                                          0,                                  0,                            0, -1/(z**2 - (x**2 + y**2 + z**2)**1.0)]])"
      ]
     },
     "execution_count": 65,
     "metadata": {},
     "output_type": "execute_result"
    }
   ],
   "source": [
    "g_mu_nu_cart"
   ]
  },
  {
   "cell_type": "markdown",
   "id": "01aef697-3e14-4447-a2c7-bca22b4aabc2",
   "metadata": {},
   "source": [
    "## We now need to calculate the transformation matrices (Jacobians) to get the metric in cartesian coordinates proper"
   ]
  },
  {
   "cell_type": "code",
   "execution_count": 66,
   "id": "d1f0fcbb-38dd-41e4-8aa5-d3db9c7d8096",
   "metadata": {},
   "outputs": [],
   "source": [
    "# def trans_to_xyz(g__mu__nu_cart):\n",
    "#     x, y, z = sp.symbols('x, y, z', real=True)\n",
    "r_func = sp.sqrt(x**2+y**2+z**2)\n",
    "th_func = sp.acos(z/sp.sqrt(x**2+y**2+z**2))\n",
    "phi_func = sp.atan2(y,x)\n",
    "M_sph__cart = sp.Matrix([[1, 0, 0, 0],\\\n",
    "                [0, r_func.diff(x), r_func.diff(y), r_func.diff(z)],\\\n",
    "                [0, th_func.diff(x), th_func.diff(y), th_func.diff(z)],\\\n",
    "                [0, phi_func.diff(x), phi_func.diff(y), phi_func.diff(z)],\\\n",
    "             ])\n",
    "\n",
    "g__mu__nu_cart = M_sph__cart.T*g__mu__nu_cart*M_sph__cart\n",
    "\n",
    "#def trans_inv_to_xyz(g_mu_nu):\n",
    "x_func = r * sp.sin(th) * sp.cos(ph)\n",
    "y_func = r * sp.sin(th) * sp.sin(ph)\n",
    "z_func = r * sp.cos(th)\n",
    "M_cart__sph = sp.Matrix([[1, 0, 0, 0],\\\n",
    "              [0, x_func.diff(r), x_func.diff(th), x_func.diff(ph)],\\\n",
    "              [0, y_func.diff(r), y_func.diff(th), y_func.diff(ph)],\\\n",
    "              [0, z_func.diff(r), z_func.diff(th), z_func.diff(ph)],\\\n",
    "             ]).subs(to_cart_sub_list)\n",
    "\n",
    "g_mu_nu_cart = M_cart__sph*g_mu_nu_cart*M_cart__sph.T "
   ]
  },
  {
   "cell_type": "markdown",
   "id": "cc629c0a-235f-47f7-a12c-cb582b1f64b9",
   "metadata": {},
   "source": [
    "## Comparing the x,x term in the metric we get:"
   ]
  },
  {
   "cell_type": "code",
   "execution_count": 67,
   "id": "199aa5dc-cdca-469e-8697-f2576a5cace8",
   "metadata": {},
   "outputs": [
    {
     "data": {
      "text/latex": [
       "$\\displaystyle \\frac{x^{2} z^{2} \\left(r_{s} - \\sqrt{x^{2} + y^{2} + z^{2}}\\right) \\sqrt{x^{2} + y^{2} + z^{2}} - x^{2} \\left(x^{2} + y^{2}\\right) \\left(x^{2} + y^{2} + z^{2}\\right) + y^{2} \\left(r_{s} - \\sqrt{x^{2} + y^{2} + z^{2}}\\right) \\left(x^{2} + y^{2} + z^{2}\\right)^{\\frac{3}{2}}}{\\left(r_{s} - \\sqrt{x^{2} + y^{2} + z^{2}}\\right) \\left(x^{2} + y^{2}\\right) \\left(x^{2} + y^{2} + z^{2}\\right)^{\\frac{3}{2}}}$"
      ],
      "text/plain": [
       "(x**2*z**2*(r_s - sqrt(x**2 + y**2 + z**2))*sqrt(x**2 + y**2 + z**2) - x**2*(x**2 + y**2)*(x**2 + y**2 + z**2) + y**2*(r_s - sqrt(x**2 + y**2 + z**2))*(x**2 + y**2 + z**2)**(3/2))/((r_s - sqrt(x**2 + y**2 + z**2))*(x**2 + y**2)*(x**2 + y**2 + z**2)**(3/2))"
      ]
     },
     "execution_count": 67,
     "metadata": {},
     "output_type": "execute_result"
    }
   ],
   "source": [
    "sp.simplify(sp.nsimplify(g__mu__nu_cart[1,1]))"
   ]
  },
  {
   "cell_type": "code",
   "execution_count": 68,
   "id": "ce6c52ee-e5ae-4af5-b926-a3065046740e",
   "metadata": {},
   "outputs": [
    {
     "data": {
      "text/latex": [
       "$\\displaystyle \\frac{r_{s} x^{2}}{\\left(- r_{s} + \\sqrt{x^{2} + y^{2} + z^{2}}\\right) \\left(x^{2} + y^{2} + z^{2}\\right)} + 1$"
      ],
      "text/plain": [
       "r_s*x**2/((-r_s + sqrt(x**2 + y**2 + z**2))*(x**2 + y**2 + z**2)) + 1"
      ]
     },
     "execution_count": 68,
     "metadata": {},
     "output_type": "execute_result"
    }
   ],
   "source": [
    "g__mu__nu_cart_yuk[1,1]"
   ]
  },
  {
   "cell_type": "markdown",
   "id": "993c81be-85a5-4356-9831-f159001c11f9",
   "metadata": {},
   "source": [
    "This does not look the same, but it is. Sympy does not manage to reduce it, but by hand you can figure this out."
   ]
  },
  {
   "cell_type": "markdown",
   "id": "4368a0a2-9def-46e4-a82a-5c1ea3b125a5",
   "metadata": {},
   "source": [
    "## The inverse metric is:"
   ]
  },
  {
   "cell_type": "code",
   "execution_count": 69,
   "id": "b5826073-14f9-48de-8cab-ae5fe2fe5e9f",
   "metadata": {},
   "outputs": [
    {
     "data": {
      "text/latex": [
       "$\\displaystyle \\frac{r_{s} x^{2} z^{2} \\left(x^{2} + y^{2} + z^{2}\\right) - r_{s} x^{2} \\left(x^{2} + y^{2} + z^{2}\\right)^{2} + x^{2} \\left(x^{2} + y^{2} + z^{2}\\right)^{\\frac{5}{2}} + y^{2} \\left(x^{2} + y^{2} + z^{2}\\right)^{\\frac{5}{2}}}{\\left(x^{2} + y^{2}\\right) \\left(x^{2} + y^{2} + z^{2}\\right)^{\\frac{5}{2}}}$"
      ],
      "text/plain": [
       "(r_s*x**2*z**2*(x**2 + y**2 + z**2) - r_s*x**2*(x**2 + y**2 + z**2)**2 + x**2*(x**2 + y**2 + z**2)**(5/2) + y**2*(x**2 + y**2 + z**2)**(5/2))/((x**2 + y**2)*(x**2 + y**2 + z**2)**(5/2))"
      ]
     },
     "execution_count": 69,
     "metadata": {},
     "output_type": "execute_result"
    }
   ],
   "source": [
    "sp.nsimplify(g_mu_nu_cart[1,1].simplify())"
   ]
  },
  {
   "cell_type": "code",
   "execution_count": 70,
   "id": "f731badf-62d9-46fd-a083-fd6a0d38057f",
   "metadata": {},
   "outputs": [
    {
     "data": {
      "text/latex": [
       "$\\displaystyle - \\frac{r_{s} x^{2}}{\\left(x^{2} + y^{2} + z^{2}\\right)^{\\frac{3}{2}}} + 1$"
      ],
      "text/plain": [
       "-r_s*x**2/(x**2 + y**2 + z**2)**(3/2) + 1"
      ]
     },
     "execution_count": 70,
     "metadata": {},
     "output_type": "execute_result"
    }
   ],
   "source": [
    "g_mu_nu_cart_yuk[1,1]"
   ]
  },
  {
   "cell_type": "markdown",
   "id": "30b8253e-887b-4b97-9bf2-77dbfaaa2add",
   "metadata": {},
   "source": [
    "This is also the same if you work it out by hand"
   ]
  },
  {
   "cell_type": "markdown",
   "id": "da44c48d-abc1-4fe2-b030-e855ce3aeb9d",
   "metadata": {},
   "source": [
    "# NEEDS WORK!"
   ]
  },
  {
   "cell_type": "code",
   "execution_count": null,
   "id": "54768acf-cf21-4636-aed2-b1b5218ef6da",
   "metadata": {},
   "outputs": [],
   "source": [
    "\n",
    "# #YOU ALSO NEED TO TRANSFORM IT!\n",
    "# print(\"transforming\")\n",
    "# self.g__mu__nu_cart = self.trans_to_xyz(self.g__mu__nu_cart)\n",
    "# self.g_mu_nu_cart = self.trans_inv_to_xyz(self.g_mu_nu_cart)\n"
   ]
  },
  {
   "cell_type": "code",
   "execution_count": null,
   "id": "ef4de04a-f59a-45eb-892a-0c1792f928be",
   "metadata": {},
   "outputs": [],
   "source": [
    "\n",
    "        # # I WOULD FIRST DIFF\n",
    "        # print(\"g_diff\")\n",
    "        # self.g__mu__nu_cart_diff = [self.g__mu__nu_cart.diff(self.t), self.g__mu__nu_cart.diff(self.x), \\\n",
    "        #                             self.g__mu__nu_cart.diff(self.y), self.g__mu__nu_cart.diff(self.z)]\n",
    "\n",
    "        # # We lambdify these to get numpy arrays\n",
    "        # print(\"g_lamb\")\n",
    "        # self.g__mu__nu_cart_lamb = sp.lambdify([self.t, self.x, self.y, self.z, self.r_s], self.g__mu__nu_cart)\n",
    "        # self.g_mu_nu_cart_lamb = sp.lambdify([self.t, self.x, self.y, self.z, self.r_s], self.g_mu_nu_cart)\n",
    "        # self.g__mu__nu_cart_diff_lamb = sp.lambdify([self.t, self.x, self.y, self.z, self.r_s], self.g__mu__nu_cart_diff)\n",
    "\n",
    "        # # Norm of k\n",
    "        # # the norm of k determines if you have a massive particle (-1), a mass-less photon (0) \n",
    "        # # or a space-like curve (1)\n",
    "        # self.k_t, self.k_x, self.k_y, self.k_z = sp.symbols('k_t k_x k_y k_z', real=True)\n",
    "        # self.k_mu_cart = sp.Matrix([self.k_t, self.k_x, self.k_y, self.k_z])\n",
    "        # self.norm_k = (self.k_mu_cart.T*self.g__mu__nu_cart*self.k_mu_cart)[0]\n",
    "\n",
    "        # self.norm_k_lamb = sp.lambdify([self.k_t, self.k_x, self.k_y, self.k_z, self.x, self.y, self.z, \\\n",
    "        #                                        self.r_s], self.norm_k, \"numpy\")"
   ]
  }
 ],
 "metadata": {
  "kernelspec": {
   "display_name": "Python 3 (ipykernel)",
   "language": "python",
   "name": "python3"
  },
  "language_info": {
   "codemirror_mode": {
    "name": "ipython",
    "version": 3
   },
   "file_extension": ".py",
   "mimetype": "text/x-python",
   "name": "python",
   "nbconvert_exporter": "python",
   "pygments_lexer": "ipython3",
   "version": "3.9.13"
  }
 },
 "nbformat": 4,
 "nbformat_minor": 5
}
